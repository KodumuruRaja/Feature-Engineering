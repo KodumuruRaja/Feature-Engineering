{
  "nbformat": 4,
  "nbformat_minor": 0,
  "metadata": {
    "colab": {
      "name": "Featuring Engineering (Krish Naik)- Handle Categorical Features Many Categories(Count/Frequency Encoding).ipynb",
      "provenance": [],
      "collapsed_sections": [],
      "authorship_tag": "ABX9TyOjrJMiKSvWGV/xiXUDqCFK",
      "include_colab_link": true
    },
    "kernelspec": {
      "name": "python3",
      "display_name": "Python 3"
    }
  },
  "cells": [
    {
      "cell_type": "markdown",
      "metadata": {
        "id": "view-in-github",
        "colab_type": "text"
      },
      "source": [
        "<a href=\"https://colab.research.google.com/github/KodumuruRaja/Feature-Engineering/blob/main/Featuring-Engineering-(Handling%20Categorical-Features%20of%20Many%20Categories(Count%20Frequency%20Encoding).ipynb\" target=\"_parent\"><img src=\"https://colab.research.google.com/assets/colab-badge.svg\" alt=\"Open In Colab\"/></a>"
      ]
    },
    {
      "cell_type": "markdown",
      "metadata": {
        "id": "1pGB058x-Iw6"
      },
      "source": [
        "# **Count or frequency encoding**\r\n",
        "# **High Cardinality**"
      ]
    },
    {
      "cell_type": "code",
      "metadata": {
        "id": "l4_ooZiU-UAD"
      },
      "source": [
        "import numpy as np\r\n",
        "import pandas as pd"
      ],
      "execution_count": null,
      "outputs": []
    },
    {
      "cell_type": "code",
      "metadata": {
        "colab": {
          "base_uri": "https://localhost:8080/",
          "height": 195
        },
        "id": "_NQlbreJ-kbg",
        "outputId": "81cad16f-1a25-4e12-dfce-be678e3bb45a"
      },
      "source": [
        "df=pd.read_csv(\"/content/train.csv\",usecols=['X1','X2'])\r\n",
        "df.head()"
      ],
      "execution_count": null,
      "outputs": [
        {
          "output_type": "execute_result",
          "data": {
            "text/html": [
              "<div>\n",
              "<style scoped>\n",
              "    .dataframe tbody tr th:only-of-type {\n",
              "        vertical-align: middle;\n",
              "    }\n",
              "\n",
              "    .dataframe tbody tr th {\n",
              "        vertical-align: top;\n",
              "    }\n",
              "\n",
              "    .dataframe thead th {\n",
              "        text-align: right;\n",
              "    }\n",
              "</style>\n",
              "<table border=\"1\" class=\"dataframe\">\n",
              "  <thead>\n",
              "    <tr style=\"text-align: right;\">\n",
              "      <th></th>\n",
              "      <th>X1</th>\n",
              "      <th>X2</th>\n",
              "    </tr>\n",
              "  </thead>\n",
              "  <tbody>\n",
              "    <tr>\n",
              "      <th>0</th>\n",
              "      <td>v</td>\n",
              "      <td>at</td>\n",
              "    </tr>\n",
              "    <tr>\n",
              "      <th>1</th>\n",
              "      <td>t</td>\n",
              "      <td>av</td>\n",
              "    </tr>\n",
              "    <tr>\n",
              "      <th>2</th>\n",
              "      <td>w</td>\n",
              "      <td>n</td>\n",
              "    </tr>\n",
              "    <tr>\n",
              "      <th>3</th>\n",
              "      <td>t</td>\n",
              "      <td>n</td>\n",
              "    </tr>\n",
              "    <tr>\n",
              "      <th>4</th>\n",
              "      <td>v</td>\n",
              "      <td>n</td>\n",
              "    </tr>\n",
              "  </tbody>\n",
              "</table>\n",
              "</div>"
            ],
            "text/plain": [
              "  X1  X2\n",
              "0  v  at\n",
              "1  t  av\n",
              "2  w   n\n",
              "3  t   n\n",
              "4  v   n"
            ]
          },
          "metadata": {
            "tags": []
          },
          "execution_count": 2
        }
      ]
    },
    {
      "cell_type": "code",
      "metadata": {
        "colab": {
          "base_uri": "https://localhost:8080/"
        },
        "id": "LvmPAOH3_KH5",
        "outputId": "f1e63fac-9c8f-4dc0-8d67-478cc284a254"
      },
      "source": [
        "df.shape"
      ],
      "execution_count": null,
      "outputs": [
        {
          "output_type": "execute_result",
          "data": {
            "text/plain": [
              "(4209, 2)"
            ]
          },
          "metadata": {
            "tags": []
          },
          "execution_count": 3
        }
      ]
    },
    {
      "cell_type": "markdown",
      "metadata": {
        "id": "_yQfTw5P_jr6"
      },
      "source": [
        "# **One hot Encoding**"
      ]
    },
    {
      "cell_type": "code",
      "metadata": {
        "colab": {
          "base_uri": "https://localhost:8080/"
        },
        "id": "HgiKVNWQ_X2r",
        "outputId": "3aa4de27-54b8-4543-ec6b-0295bd63a7c3"
      },
      "source": [
        "pd.get_dummies(df).shape"
      ],
      "execution_count": null,
      "outputs": [
        {
          "output_type": "execute_result",
          "data": {
            "text/plain": [
              "(4209, 71)"
            ]
          },
          "metadata": {
            "tags": []
          },
          "execution_count": 4
        }
      ]
    },
    {
      "cell_type": "code",
      "metadata": {
        "colab": {
          "base_uri": "https://localhost:8080/"
        },
        "id": "dilrUwK7_b7-",
        "outputId": "1e283454-bd14-44a3-8ce1-ebcf014c52b1"
      },
      "source": [
        "len(df['X1'].unique())"
      ],
      "execution_count": null,
      "outputs": [
        {
          "output_type": "execute_result",
          "data": {
            "text/plain": [
              "27"
            ]
          },
          "metadata": {
            "tags": []
          },
          "execution_count": 5
        }
      ]
    },
    {
      "cell_type": "code",
      "metadata": {
        "colab": {
          "base_uri": "https://localhost:8080/"
        },
        "id": "TB21lRD5_4oi",
        "outputId": "17fced75-5d7e-4dae-81b0-37e7ebc12a71"
      },
      "source": [
        "len(df['X2'].unique())"
      ],
      "execution_count": null,
      "outputs": [
        {
          "output_type": "execute_result",
          "data": {
            "text/plain": [
              "44"
            ]
          },
          "metadata": {
            "tags": []
          },
          "execution_count": 6
        }
      ]
    },
    {
      "cell_type": "code",
      "metadata": {
        "colab": {
          "base_uri": "https://localhost:8080/"
        },
        "id": "UDGI3u1o_74p",
        "outputId": "682e7186-fe63-4d74-d408-fad6bd08dcb8"
      },
      "source": [
        "# Let's have a look at how many labels\r\n",
        "for col in df.columns[0:]:\r\n",
        "  print(col,':',len(df[col].unique()),'labels')"
      ],
      "execution_count": null,
      "outputs": [
        {
          "output_type": "stream",
          "text": [
            "X1 : 27 labels\n",
            "X2 : 44 labels\n"
          ],
          "name": "stdout"
        }
      ]
    },
    {
      "cell_type": "code",
      "metadata": {
        "colab": {
          "base_uri": "https://localhost:8080/"
        },
        "id": "LFIhI2zvALvY",
        "outputId": "62583d44-5169-42d4-96be-fa050a6e1876"
      },
      "source": [
        "#we make the count for each one of labels in variable X2, and capture this in a dictionary that we can use to re-map the labels\r\n",
        "df.X2.value_counts().to_dict()"
      ],
      "execution_count": null,
      "outputs": [
        {
          "output_type": "execute_result",
          "data": {
            "text/plain": [
              "{'a': 47,\n",
              " 'aa': 1,\n",
              " 'ac': 13,\n",
              " 'ae': 496,\n",
              " 'af': 1,\n",
              " 'ag': 19,\n",
              " 'ah': 4,\n",
              " 'ai': 415,\n",
              " 'ak': 265,\n",
              " 'al': 5,\n",
              " 'am': 1,\n",
              " 'an': 5,\n",
              " 'ao': 20,\n",
              " 'ap': 11,\n",
              " 'aq': 63,\n",
              " 'ar': 1,\n",
              " 'as': 1659,\n",
              " 'at': 6,\n",
              " 'au': 3,\n",
              " 'av': 4,\n",
              " 'aw': 8,\n",
              " 'ay': 54,\n",
              " 'b': 21,\n",
              " 'c': 1,\n",
              " 'd': 18,\n",
              " 'e': 81,\n",
              " 'f': 87,\n",
              " 'g': 12,\n",
              " 'h': 6,\n",
              " 'i': 25,\n",
              " 'j': 1,\n",
              " 'k': 25,\n",
              " 'l': 1,\n",
              " 'm': 367,\n",
              " 'n': 137,\n",
              " 'o': 1,\n",
              " 'p': 4,\n",
              " 'q': 5,\n",
              " 'r': 153,\n",
              " 's': 94,\n",
              " 't': 29,\n",
              " 'x': 10,\n",
              " 'y': 11,\n",
              " 'z': 19}"
            ]
          },
          "metadata": {
            "tags": []
          },
          "execution_count": 8
        }
      ]
    },
    {
      "cell_type": "code",
      "metadata": {
        "id": "4JCpF0I2AvrP"
      },
      "source": [
        "#Now replace each label in X2 by its count,make a dictionary to map each label to the counts\r\n",
        "df_fm=df.X2.value_counts().to_dict()"
      ],
      "execution_count": null,
      "outputs": []
    },
    {
      "cell_type": "code",
      "metadata": {
        "colab": {
          "base_uri": "https://localhost:8080/"
        },
        "id": "jAERfx5kBzdE",
        "outputId": "8d820dbe-a84b-43ca-82c7-cdf6172add16"
      },
      "source": [
        "df.X2.head()"
      ],
      "execution_count": null,
      "outputs": [
        {
          "output_type": "execute_result",
          "data": {
            "text/plain": [
              "0    at\n",
              "1    av\n",
              "2     n\n",
              "3     n\n",
              "4     n\n",
              "Name: X2, dtype: object"
            ]
          },
          "metadata": {
            "tags": []
          },
          "execution_count": 10
        }
      ]
    },
    {
      "cell_type": "code",
      "metadata": {
        "colab": {
          "base_uri": "https://localhost:8080/",
          "height": 195
        },
        "id": "B9Gy_CH-BODd",
        "outputId": "24cb9251-2fd9-45f3-bb0c-0e341eaabaa8"
      },
      "source": [
        "# Now replace X2 labels in the dataset df\r\n",
        "df.X2=df.X2.map(df_fm)\r\n",
        "df.head()"
      ],
      "execution_count": null,
      "outputs": [
        {
          "output_type": "execute_result",
          "data": {
            "text/html": [
              "<div>\n",
              "<style scoped>\n",
              "    .dataframe tbody tr th:only-of-type {\n",
              "        vertical-align: middle;\n",
              "    }\n",
              "\n",
              "    .dataframe tbody tr th {\n",
              "        vertical-align: top;\n",
              "    }\n",
              "\n",
              "    .dataframe thead th {\n",
              "        text-align: right;\n",
              "    }\n",
              "</style>\n",
              "<table border=\"1\" class=\"dataframe\">\n",
              "  <thead>\n",
              "    <tr style=\"text-align: right;\">\n",
              "      <th></th>\n",
              "      <th>X1</th>\n",
              "      <th>X2</th>\n",
              "    </tr>\n",
              "  </thead>\n",
              "  <tbody>\n",
              "    <tr>\n",
              "      <th>0</th>\n",
              "      <td>v</td>\n",
              "      <td>6</td>\n",
              "    </tr>\n",
              "    <tr>\n",
              "      <th>1</th>\n",
              "      <td>t</td>\n",
              "      <td>4</td>\n",
              "    </tr>\n",
              "    <tr>\n",
              "      <th>2</th>\n",
              "      <td>w</td>\n",
              "      <td>137</td>\n",
              "    </tr>\n",
              "    <tr>\n",
              "      <th>3</th>\n",
              "      <td>t</td>\n",
              "      <td>137</td>\n",
              "    </tr>\n",
              "    <tr>\n",
              "      <th>4</th>\n",
              "      <td>v</td>\n",
              "      <td>137</td>\n",
              "    </tr>\n",
              "  </tbody>\n",
              "</table>\n",
              "</div>"
            ],
            "text/plain": [
              "  X1   X2\n",
              "0  v    6\n",
              "1  t    4\n",
              "2  w  137\n",
              "3  t  137\n",
              "4  v  137"
            ]
          },
          "metadata": {
            "tags": []
          },
          "execution_count": 11
        }
      ]
    },
    {
      "cell_type": "code",
      "metadata": {
        "id": "6i9TMLsnBZBz"
      },
      "source": [
        ""
      ],
      "execution_count": null,
      "outputs": []
    },
    {
      "cell_type": "code",
      "metadata": {
        "id": "x54vB6enBiNL"
      },
      "source": [
        ""
      ],
      "execution_count": null,
      "outputs": []
    },
    {
      "cell_type": "code",
      "metadata": {
        "id": "yLPmyf_gBpzj"
      },
      "source": [
        ""
      ],
      "execution_count": null,
      "outputs": []
    }
  ]
}