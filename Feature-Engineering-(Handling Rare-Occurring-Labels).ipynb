{
  "nbformat": 4,
  "nbformat_minor": 0,
  "metadata": {
    "colab": {
      "name": "Feature Engineering (KGP Talkie)- How to Handle Rare Occurring Labels in Machine Learning.ipynb",
      "provenance": [],
      "collapsed_sections": [],
      "authorship_tag": "ABX9TyN0gm8eSBV+yS04dzDQLJJW",
      "include_colab_link": true
    },
    "kernelspec": {
      "name": "python3",
      "display_name": "Python 3"
    }
  },
  "cells": [
    {
      "cell_type": "markdown",
      "metadata": {
        "id": "view-in-github",
        "colab_type": "text"
      },
      "source": [
        "<a href=\"https://colab.research.google.com/github/KodumuruRaja/Feature-Engineering/blob/main/Feature-Engineering-(Handling%20Rare-Occurring-Labels).ipynb\" target=\"_parent\"><img src=\"https://colab.research.google.com/assets/colab-badge.svg\" alt=\"Open In Colab\"/></a>"
      ]
    },
    {
      "cell_type": "code",
      "metadata": {
        "id": "F0we4uv5r6Vj"
      },
      "source": [
        "import numpy as np\r\n",
        "import pandas as pd\r\n",
        "import matplotlib.pyplot as plt\r\n",
        "from sklearn.model_selection import train_test_split"
      ],
      "execution_count": null,
      "outputs": []
    },
    {
      "cell_type": "code",
      "metadata": {
        "id": "OS2AkUEkvGwK"
      },
      "source": [
        " cols=['Neighborhood','Exterior1st','Exterior2nd','SalePrice']\r\n",
        " data=pd.read_csv(\"/content/train.csv\",usecols=cols)"
      ],
      "execution_count": null,
      "outputs": []
    },
    {
      "cell_type": "code",
      "metadata": {
        "colab": {
          "base_uri": "https://localhost:8080/",
          "height": 195
        },
        "id": "ZSqo0aOWxf6J",
        "outputId": "35aada10-e858-48ae-ad06-86e119ca0bb9"
      },
      "source": [
        "data.head()"
      ],
      "execution_count": null,
      "outputs": [
        {
          "output_type": "execute_result",
          "data": {
            "text/html": [
              "<div>\n",
              "<style scoped>\n",
              "    .dataframe tbody tr th:only-of-type {\n",
              "        vertical-align: middle;\n",
              "    }\n",
              "\n",
              "    .dataframe tbody tr th {\n",
              "        vertical-align: top;\n",
              "    }\n",
              "\n",
              "    .dataframe thead th {\n",
              "        text-align: right;\n",
              "    }\n",
              "</style>\n",
              "<table border=\"1\" class=\"dataframe\">\n",
              "  <thead>\n",
              "    <tr style=\"text-align: right;\">\n",
              "      <th></th>\n",
              "      <th>Neighborhood</th>\n",
              "      <th>Exterior1st</th>\n",
              "      <th>Exterior2nd</th>\n",
              "      <th>SalePrice</th>\n",
              "    </tr>\n",
              "  </thead>\n",
              "  <tbody>\n",
              "    <tr>\n",
              "      <th>0</th>\n",
              "      <td>CollgCr</td>\n",
              "      <td>VinylSd</td>\n",
              "      <td>VinylSd</td>\n",
              "      <td>208500</td>\n",
              "    </tr>\n",
              "    <tr>\n",
              "      <th>1</th>\n",
              "      <td>Veenker</td>\n",
              "      <td>MetalSd</td>\n",
              "      <td>MetalSd</td>\n",
              "      <td>181500</td>\n",
              "    </tr>\n",
              "    <tr>\n",
              "      <th>2</th>\n",
              "      <td>CollgCr</td>\n",
              "      <td>VinylSd</td>\n",
              "      <td>VinylSd</td>\n",
              "      <td>223500</td>\n",
              "    </tr>\n",
              "    <tr>\n",
              "      <th>3</th>\n",
              "      <td>Crawfor</td>\n",
              "      <td>Wd Sdng</td>\n",
              "      <td>Wd Shng</td>\n",
              "      <td>140000</td>\n",
              "    </tr>\n",
              "    <tr>\n",
              "      <th>4</th>\n",
              "      <td>NoRidge</td>\n",
              "      <td>VinylSd</td>\n",
              "      <td>VinylSd</td>\n",
              "      <td>250000</td>\n",
              "    </tr>\n",
              "  </tbody>\n",
              "</table>\n",
              "</div>"
            ],
            "text/plain": [
              "  Neighborhood Exterior1st Exterior2nd  SalePrice\n",
              "0      CollgCr     VinylSd     VinylSd     208500\n",
              "1      Veenker     MetalSd     MetalSd     181500\n",
              "2      CollgCr     VinylSd     VinylSd     223500\n",
              "3      Crawfor     Wd Sdng     Wd Shng     140000\n",
              "4      NoRidge     VinylSd     VinylSd     250000"
            ]
          },
          "metadata": {
            "tags": []
          },
          "execution_count": 3
        }
      ]
    },
    {
      "cell_type": "code",
      "metadata": {
        "colab": {
          "base_uri": "https://localhost:8080/"
        },
        "id": "b5-fKQAvzpQ9",
        "outputId": "4355c094-b6e8-408c-c8f4-fb55bd97d397"
      },
      "source": [
        "data['Neighborhood'].value_counts()"
      ],
      "execution_count": null,
      "outputs": [
        {
          "output_type": "execute_result",
          "data": {
            "text/plain": [
              "NAmes      225\n",
              "CollgCr    150\n",
              "OldTown    113\n",
              "Edwards    100\n",
              "Somerst     86\n",
              "Gilbert     79\n",
              "NridgHt     77\n",
              "Sawyer      74\n",
              "NWAmes      73\n",
              "SawyerW     59\n",
              "BrkSide     58\n",
              "Crawfor     51\n",
              "Mitchel     49\n",
              "NoRidge     41\n",
              "Timber      38\n",
              "IDOTRR      37\n",
              "ClearCr     28\n",
              "SWISU       25\n",
              "StoneBr     25\n",
              "MeadowV     17\n",
              "Blmngtn     17\n",
              "BrDale      16\n",
              "Veenker     11\n",
              "NPkVill      9\n",
              "Blueste      2\n",
              "Name: Neighborhood, dtype: int64"
            ]
          },
          "metadata": {
            "tags": []
          },
          "execution_count": 4
        }
      ]
    },
    {
      "cell_type": "code",
      "metadata": {
        "colab": {
          "base_uri": "https://localhost:8080/"
        },
        "id": "K7JloS-Bz5ox",
        "outputId": "17382033-ef98-4596-97ca-7a9ccd6c6353"
      },
      "source": [
        "data['Neighborhood'].nunique()"
      ],
      "execution_count": null,
      "outputs": [
        {
          "output_type": "execute_result",
          "data": {
            "text/plain": [
              "25"
            ]
          },
          "metadata": {
            "tags": []
          },
          "execution_count": 5
        }
      ]
    },
    {
      "cell_type": "code",
      "metadata": {
        "colab": {
          "base_uri": "https://localhost:8080/"
        },
        "id": "uRdwGfwAxnhY",
        "outputId": "86b9ab71-47bc-4243-bf36-f3b90cd0fdf1"
      },
      "source": [
        "feature_cols=['Neighborhood','Exterior1st','Exterior2nd']\r\n",
        "for col in feature_cols:\r\n",
        "  print('{}:{}'.format(col,data[col].nunique()))\r\n"
      ],
      "execution_count": null,
      "outputs": [
        {
          "output_type": "stream",
          "text": [
            "Neighborhood:25\n",
            "Exterior1st:15\n",
            "Exterior2nd:16\n"
          ],
          "name": "stdout"
        }
      ]
    },
    {
      "cell_type": "code",
      "metadata": {
        "colab": {
          "base_uri": "https://localhost:8080/"
        },
        "id": "AvsL7vH10VAb",
        "outputId": "bafc80dc-7f2b-4e66-a93f-74835e49a5f3"
      },
      "source": [
        "data.shape"
      ],
      "execution_count": null,
      "outputs": [
        {
          "output_type": "execute_result",
          "data": {
            "text/plain": [
              "(1460, 4)"
            ]
          },
          "metadata": {
            "tags": []
          },
          "execution_count": 7
        }
      ]
    },
    {
      "cell_type": "code",
      "metadata": {
        "colab": {
          "base_uri": "https://localhost:8080/"
        },
        "id": "pvNKrH0N0byB",
        "outputId": "bafde3b8-708c-49e6-f5d2-0a96472fd879"
      },
      "source": [
        "data.isnull().sum()"
      ],
      "execution_count": null,
      "outputs": [
        {
          "output_type": "execute_result",
          "data": {
            "text/plain": [
              "Neighborhood    0\n",
              "Exterior1st     0\n",
              "Exterior2nd     0\n",
              "SalePrice       0\n",
              "dtype: int64"
            ]
          },
          "metadata": {
            "tags": []
          },
          "execution_count": 8
        }
      ]
    },
    {
      "cell_type": "code",
      "metadata": {
        "colab": {
          "base_uri": "https://localhost:8080/"
        },
        "id": "X7QyYxhQ0n12",
        "outputId": "dc81207f-dcc8-4979-86b9-3e40c5b48422"
      },
      "source": [
        "data.info()"
      ],
      "execution_count": null,
      "outputs": [
        {
          "output_type": "stream",
          "text": [
            "<class 'pandas.core.frame.DataFrame'>\n",
            "RangeIndex: 1460 entries, 0 to 1459\n",
            "Data columns (total 4 columns):\n",
            " #   Column        Non-Null Count  Dtype \n",
            "---  ------        --------------  ----- \n",
            " 0   Neighborhood  1460 non-null   object\n",
            " 1   Exterior1st   1460 non-null   object\n",
            " 2   Exterior2nd   1460 non-null   object\n",
            " 3   SalePrice     1460 non-null   int64 \n",
            "dtypes: int64(1), object(3)\n",
            "memory usage: 45.8+ KB\n"
          ],
          "name": "stdout"
        }
      ]
    },
    {
      "cell_type": "code",
      "metadata": {
        "colab": {
          "base_uri": "https://localhost:8080/"
        },
        "id": "dJdECxQP0pNv",
        "outputId": "04cb695d-a840-480e-a92d-6878cbccb216"
      },
      "source": [
        "total_houses=data.shape[0]\r\n",
        "total_houses"
      ],
      "execution_count": null,
      "outputs": [
        {
          "output_type": "execute_result",
          "data": {
            "text/plain": [
              "1460"
            ]
          },
          "metadata": {
            "tags": []
          },
          "execution_count": 10
        }
      ]
    },
    {
      "cell_type": "code",
      "metadata": {
        "colab": {
          "base_uri": "https://localhost:8080/"
        },
        "id": "ElKvzchN0y6f",
        "outputId": "09d7c550-b091-46c0-a72a-c0ac34978b7b"
      },
      "source": [
        "data['Neighborhood']"
      ],
      "execution_count": null,
      "outputs": [
        {
          "output_type": "execute_result",
          "data": {
            "text/plain": [
              "0       CollgCr\n",
              "1       Veenker\n",
              "2       CollgCr\n",
              "3       Crawfor\n",
              "4       NoRidge\n",
              "         ...   \n",
              "1455    Gilbert\n",
              "1456     NWAmes\n",
              "1457    Crawfor\n",
              "1458      NAmes\n",
              "1459    Edwards\n",
              "Name: Neighborhood, Length: 1460, dtype: object"
            ]
          },
          "metadata": {
            "tags": []
          },
          "execution_count": 11
        }
      ]
    },
    {
      "cell_type": "code",
      "metadata": {
        "colab": {
          "base_uri": "https://localhost:8080/"
        },
        "id": "epWXy-N71FrV",
        "outputId": "d41fb545-fd90-4cd5-c563-f870312c5ae2"
      },
      "source": [
        "data['Neighborhood'].value_counts()"
      ],
      "execution_count": null,
      "outputs": [
        {
          "output_type": "execute_result",
          "data": {
            "text/plain": [
              "NAmes      225\n",
              "CollgCr    150\n",
              "OldTown    113\n",
              "Edwards    100\n",
              "Somerst     86\n",
              "Gilbert     79\n",
              "NridgHt     77\n",
              "Sawyer      74\n",
              "NWAmes      73\n",
              "SawyerW     59\n",
              "BrkSide     58\n",
              "Crawfor     51\n",
              "Mitchel     49\n",
              "NoRidge     41\n",
              "Timber      38\n",
              "IDOTRR      37\n",
              "ClearCr     28\n",
              "SWISU       25\n",
              "StoneBr     25\n",
              "MeadowV     17\n",
              "Blmngtn     17\n",
              "BrDale      16\n",
              "Veenker     11\n",
              "NPkVill      9\n",
              "Blueste      2\n",
              "Name: Neighborhood, dtype: int64"
            ]
          },
          "metadata": {
            "tags": []
          },
          "execution_count": 12
        }
      ]
    },
    {
      "cell_type": "code",
      "metadata": {
        "colab": {
          "base_uri": "https://localhost:8080/"
        },
        "id": "l3aCQwzr1JxO",
        "outputId": "18ad23ac-ccf6-4b6f-93e8-31c16310fb53"
      },
      "source": [
        "temp=data['Neighborhood'].value_counts()/total_houses\r\n",
        "temp"
      ],
      "execution_count": null,
      "outputs": [
        {
          "output_type": "execute_result",
          "data": {
            "text/plain": [
              "NAmes      0.154110\n",
              "CollgCr    0.102740\n",
              "OldTown    0.077397\n",
              "Edwards    0.068493\n",
              "Somerst    0.058904\n",
              "Gilbert    0.054110\n",
              "NridgHt    0.052740\n",
              "Sawyer     0.050685\n",
              "NWAmes     0.050000\n",
              "SawyerW    0.040411\n",
              "BrkSide    0.039726\n",
              "Crawfor    0.034932\n",
              "Mitchel    0.033562\n",
              "NoRidge    0.028082\n",
              "Timber     0.026027\n",
              "IDOTRR     0.025342\n",
              "ClearCr    0.019178\n",
              "SWISU      0.017123\n",
              "StoneBr    0.017123\n",
              "MeadowV    0.011644\n",
              "Blmngtn    0.011644\n",
              "BrDale     0.010959\n",
              "Veenker    0.007534\n",
              "NPkVill    0.006164\n",
              "Blueste    0.001370\n",
              "Name: Neighborhood, dtype: float64"
            ]
          },
          "metadata": {
            "tags": []
          },
          "execution_count": 13
        }
      ]
    },
    {
      "cell_type": "code",
      "metadata": {
        "colab": {
          "base_uri": "https://localhost:8080/",
          "height": 322
        },
        "id": "QgdDkF8c1Q1A",
        "outputId": "3a42e6fa-79e3-46f2-9da9-70cd0d698cdd"
      },
      "source": [
        "temp.plot.bar()"
      ],
      "execution_count": null,
      "outputs": [
        {
          "output_type": "execute_result",
          "data": {
            "text/plain": [
              "<matplotlib.axes._subplots.AxesSubplot at 0x7feaa3ca2828>"
            ]
          },
          "metadata": {
            "tags": []
          },
          "execution_count": 14
        },
        {
          "output_type": "display_data",
          "data": {
            "image/png": "[encoded data removed]",
            "text/plain": [
              "<Figure size 432x288 with 1 Axes>"
            ]
          },
          "metadata": {
            "tags": [],
            "needs_background": "light"
          }
        }
      ]
    },
    {
      "cell_type": "code",
      "metadata": {
        "colab": {
          "base_uri": "https://localhost:8080/",
          "height": 319
        },
        "id": "-X8zvOsR1rts",
        "outputId": "a0099d45-fb53-4c6a-c7f8-b060cd99e711"
      },
      "source": [
        " temp.plot.bar()\r\n",
        " plt.axhline(y=0.05,color='r')\r\n",
        " plt.xlabel('Neighbourhood')\r\n",
        " plt.ylabel('% of House')\r\n",
        " plt.show()"
      ],
      "execution_count": null,
      "outputs": [
        {
          "output_type": "display_data",
          "data": {
            "image/png": "[encoded data removed]",
            "text/plain": [
              "<Figure size 432x288 with 1 Axes>"
            ]
          },
          "metadata": {
            "tags": [],
            "needs_background": "light"
          }
        }
      ]
    },
    {
      "cell_type": "code",
      "metadata": {
        "colab": {
          "base_uri": "https://localhost:8080/",
          "height": 918
        },
        "id": "I2qDYALb2A6B",
        "outputId": "7833726e-007f-49d9-a3fb-035abce213af"
      },
      "source": [
        "for col in feature_cols:\r\n",
        "  temp=data[col].value_counts()/total_houses\r\n",
        "  temp.plot.bar()\r\n",
        "  plt.axhline(y=0.05,color='r')\r\n",
        "  plt.xlabel(col)\r\n",
        "  plt.ylabel('% of House')\r\n",
        "  plt.show()"
      ],
      "execution_count": null,
      "outputs": [
        {
          "output_type": "display_data",
          "data": {
            "image/png": "[encoded data removed]",
            "text/plain": [
              "<Figure size 432x288 with 1 Axes>"
            ]
          },
          "metadata": {
            "tags": [],
            "needs_background": "light"
          }
        },
        {
          "output_type": "display_data",
          "data": {
            "image/png": "[encoded data removed]",
            "text/plain": [
              "<Figure size 432x288 with 1 Axes>"
            ]
          },
          "metadata": {
            "tags": [],
            "needs_background": "light"
          }
        },
        {
          "output_type": "display_data",
          "data": {
            "image/png": "[encoded data removed]",
            "text/plain": [
              "<Figure size 432x288 with 1 Axes>"
            ]
          },
          "metadata": {
            "tags": [],
            "needs_background": "light"
          }
        }
      ]
    },
    {
      "cell_type": "markdown",
      "metadata": {
        "id": "dQUkMUjE3cfL"
      },
      "source": [
        "# **How is SalePrice related to these Categories**"
      ]
    },
    {
      "cell_type": "code",
      "metadata": {
        "colab": {
          "base_uri": "https://localhost:8080/"
        },
        "id": "G9ZE8QRT4NFO",
        "outputId": "294c01c5-61ba-4f9c-dca9-6a0f76a5e257"
      },
      "source": [
        "temp"
      ],
      "execution_count": null,
      "outputs": [
        {
          "output_type": "execute_result",
          "data": {
            "text/plain": [
              "VinylSd    0.345205\n",
              "MetalSd    0.146575\n",
              "HdBoard    0.141781\n",
              "Wd Sdng    0.134932\n",
              "Plywood    0.097260\n",
              "CmentBd    0.041096\n",
              "Wd Shng    0.026027\n",
              "Stucco     0.017808\n",
              "BrkFace    0.017123\n",
              "AsbShng    0.013699\n",
              "ImStucc    0.006849\n",
              "Brk Cmn    0.004795\n",
              "Stone      0.003425\n",
              "AsphShn    0.002055\n",
              "CBlock     0.000685\n",
              "Other      0.000685\n",
              "Name: Exterior2nd, dtype: float64"
            ]
          },
          "metadata": {
            "tags": []
          },
          "execution_count": 17
        }
      ]
    },
    {
      "cell_type": "code",
      "metadata": {
        "colab": {
          "base_uri": "https://localhost:8080/",
          "height": 521
        },
        "id": "xM3y9q324TDz",
        "outputId": "a2253cd5-a245-4062-f7f7-6812196b9e37"
      },
      "source": [
        "temp.reset_index()"
      ],
      "execution_count": null,
      "outputs": [
        {
          "output_type": "execute_result",
          "data": {
            "text/html": [
              "<div>\n",
              "<style scoped>\n",
              "    .dataframe tbody tr th:only-of-type {\n",
              "        vertical-align: middle;\n",
              "    }\n",
              "\n",
              "    .dataframe tbody tr th {\n",
              "        vertical-align: top;\n",
              "    }\n",
              "\n",
              "    .dataframe thead th {\n",
              "        text-align: right;\n",
              "    }\n",
              "</style>\n",
              "<table border=\"1\" class=\"dataframe\">\n",
              "  <thead>\n",
              "    <tr style=\"text-align: right;\">\n",
              "      <th></th>\n",
              "      <th>index</th>\n",
              "      <th>Exterior2nd</th>\n",
              "    </tr>\n",
              "  </thead>\n",
              "  <tbody>\n",
              "    <tr>\n",
              "      <th>0</th>\n",
              "      <td>VinylSd</td>\n",
              "      <td>0.345205</td>\n",
              "    </tr>\n",
              "    <tr>\n",
              "      <th>1</th>\n",
              "      <td>MetalSd</td>\n",
              "      <td>0.146575</td>\n",
              "    </tr>\n",
              "    <tr>\n",
              "      <th>2</th>\n",
              "      <td>HdBoard</td>\n",
              "      <td>0.141781</td>\n",
              "    </tr>\n",
              "    <tr>\n",
              "      <th>3</th>\n",
              "      <td>Wd Sdng</td>\n",
              "      <td>0.134932</td>\n",
              "    </tr>\n",
              "    <tr>\n",
              "      <th>4</th>\n",
              "      <td>Plywood</td>\n",
              "      <td>0.097260</td>\n",
              "    </tr>\n",
              "    <tr>\n",
              "      <th>5</th>\n",
              "      <td>CmentBd</td>\n",
              "      <td>0.041096</td>\n",
              "    </tr>\n",
              "    <tr>\n",
              "      <th>6</th>\n",
              "      <td>Wd Shng</td>\n",
              "      <td>0.026027</td>\n",
              "    </tr>\n",
              "    <tr>\n",
              "      <th>7</th>\n",
              "      <td>Stucco</td>\n",
              "      <td>0.017808</td>\n",
              "    </tr>\n",
              "    <tr>\n",
              "      <th>8</th>\n",
              "      <td>BrkFace</td>\n",
              "      <td>0.017123</td>\n",
              "    </tr>\n",
              "    <tr>\n",
              "      <th>9</th>\n",
              "      <td>AsbShng</td>\n",
              "      <td>0.013699</td>\n",
              "    </tr>\n",
              "    <tr>\n",
              "      <th>10</th>\n",
              "      <td>ImStucc</td>\n",
              "      <td>0.006849</td>\n",
              "    </tr>\n",
              "    <tr>\n",
              "      <th>11</th>\n",
              "      <td>Brk Cmn</td>\n",
              "      <td>0.004795</td>\n",
              "    </tr>\n",
              "    <tr>\n",
              "      <th>12</th>\n",
              "      <td>Stone</td>\n",
              "      <td>0.003425</td>\n",
              "    </tr>\n",
              "    <tr>\n",
              "      <th>13</th>\n",
              "      <td>AsphShn</td>\n",
              "      <td>0.002055</td>\n",
              "    </tr>\n",
              "    <tr>\n",
              "      <th>14</th>\n",
              "      <td>CBlock</td>\n",
              "      <td>0.000685</td>\n",
              "    </tr>\n",
              "    <tr>\n",
              "      <th>15</th>\n",
              "      <td>Other</td>\n",
              "      <td>0.000685</td>\n",
              "    </tr>\n",
              "  </tbody>\n",
              "</table>\n",
              "</div>"
            ],
            "text/plain": [
              "      index  Exterior2nd\n",
              "0   VinylSd     0.345205\n",
              "1   MetalSd     0.146575\n",
              "2   HdBoard     0.141781\n",
              "3   Wd Sdng     0.134932\n",
              "4   Plywood     0.097260\n",
              "5   CmentBd     0.041096\n",
              "6   Wd Shng     0.026027\n",
              "7    Stucco     0.017808\n",
              "8   BrkFace     0.017123\n",
              "9   AsbShng     0.013699\n",
              "10  ImStucc     0.006849\n",
              "11  Brk Cmn     0.004795\n",
              "12    Stone     0.003425\n",
              "13  AsphShn     0.002055\n",
              "14   CBlock     0.000685\n",
              "15    Other     0.000685"
            ]
          },
          "metadata": {
            "tags": []
          },
          "execution_count": 18
        }
      ]
    },
    {
      "cell_type": "code",
      "metadata": {
        "colab": {
          "base_uri": "https://localhost:8080/",
          "height": 521
        },
        "id": "Dmt_lzDs7VSr",
        "outputId": "9d34b92a-6837-4c66-cfdb-c5b9abdc3b21"
      },
      "source": [
        "temp=temp=temp.reset_index()\r\n",
        "temp.columns=['Exterior2nd','% of houses']\r\n",
        "temp"
      ],
      "execution_count": null,
      "outputs": [
        {
          "output_type": "execute_result",
          "data": {
            "text/html": [
              "<div>\n",
              "<style scoped>\n",
              "    .dataframe tbody tr th:only-of-type {\n",
              "        vertical-align: middle;\n",
              "    }\n",
              "\n",
              "    .dataframe tbody tr th {\n",
              "        vertical-align: top;\n",
              "    }\n",
              "\n",
              "    .dataframe thead th {\n",
              "        text-align: right;\n",
              "    }\n",
              "</style>\n",
              "<table border=\"1\" class=\"dataframe\">\n",
              "  <thead>\n",
              "    <tr style=\"text-align: right;\">\n",
              "      <th></th>\n",
              "      <th>Exterior2nd</th>\n",
              "      <th>% of houses</th>\n",
              "    </tr>\n",
              "  </thead>\n",
              "  <tbody>\n",
              "    <tr>\n",
              "      <th>0</th>\n",
              "      <td>VinylSd</td>\n",
              "      <td>0.345205</td>\n",
              "    </tr>\n",
              "    <tr>\n",
              "      <th>1</th>\n",
              "      <td>MetalSd</td>\n",
              "      <td>0.146575</td>\n",
              "    </tr>\n",
              "    <tr>\n",
              "      <th>2</th>\n",
              "      <td>HdBoard</td>\n",
              "      <td>0.141781</td>\n",
              "    </tr>\n",
              "    <tr>\n",
              "      <th>3</th>\n",
              "      <td>Wd Sdng</td>\n",
              "      <td>0.134932</td>\n",
              "    </tr>\n",
              "    <tr>\n",
              "      <th>4</th>\n",
              "      <td>Plywood</td>\n",
              "      <td>0.097260</td>\n",
              "    </tr>\n",
              "    <tr>\n",
              "      <th>5</th>\n",
              "      <td>CmentBd</td>\n",
              "      <td>0.041096</td>\n",
              "    </tr>\n",
              "    <tr>\n",
              "      <th>6</th>\n",
              "      <td>Wd Shng</td>\n",
              "      <td>0.026027</td>\n",
              "    </tr>\n",
              "    <tr>\n",
              "      <th>7</th>\n",
              "      <td>Stucco</td>\n",
              "      <td>0.017808</td>\n",
              "    </tr>\n",
              "    <tr>\n",
              "      <th>8</th>\n",
              "      <td>BrkFace</td>\n",
              "      <td>0.017123</td>\n",
              "    </tr>\n",
              "    <tr>\n",
              "      <th>9</th>\n",
              "      <td>AsbShng</td>\n",
              "      <td>0.013699</td>\n",
              "    </tr>\n",
              "    <tr>\n",
              "      <th>10</th>\n",
              "      <td>ImStucc</td>\n",
              "      <td>0.006849</td>\n",
              "    </tr>\n",
              "    <tr>\n",
              "      <th>11</th>\n",
              "      <td>Brk Cmn</td>\n",
              "      <td>0.004795</td>\n",
              "    </tr>\n",
              "    <tr>\n",
              "      <th>12</th>\n",
              "      <td>Stone</td>\n",
              "      <td>0.003425</td>\n",
              "    </tr>\n",
              "    <tr>\n",
              "      <th>13</th>\n",
              "      <td>AsphShn</td>\n",
              "      <td>0.002055</td>\n",
              "    </tr>\n",
              "    <tr>\n",
              "      <th>14</th>\n",
              "      <td>CBlock</td>\n",
              "      <td>0.000685</td>\n",
              "    </tr>\n",
              "    <tr>\n",
              "      <th>15</th>\n",
              "      <td>Other</td>\n",
              "      <td>0.000685</td>\n",
              "    </tr>\n",
              "  </tbody>\n",
              "</table>\n",
              "</div>"
            ],
            "text/plain": [
              "   Exterior2nd  % of houses\n",
              "0      VinylSd     0.345205\n",
              "1      MetalSd     0.146575\n",
              "2      HdBoard     0.141781\n",
              "3      Wd Sdng     0.134932\n",
              "4      Plywood     0.097260\n",
              "5      CmentBd     0.041096\n",
              "6      Wd Shng     0.026027\n",
              "7       Stucco     0.017808\n",
              "8      BrkFace     0.017123\n",
              "9      AsbShng     0.013699\n",
              "10     ImStucc     0.006849\n",
              "11     Brk Cmn     0.004795\n",
              "12       Stone     0.003425\n",
              "13     AsphShn     0.002055\n",
              "14      CBlock     0.000685\n",
              "15       Other     0.000685"
            ]
          },
          "metadata": {
            "tags": []
          },
          "execution_count": 19
        }
      ]
    },
    {
      "cell_type": "code",
      "metadata": {
        "colab": {
          "base_uri": "https://localhost:8080/"
        },
        "id": "xTLdRCfw40eM",
        "outputId": "e1c4a096-b637-4b37-9c76-264b088492a1"
      },
      "source": [
        "data['Exterior2nd']=='VinylSd'"
      ],
      "execution_count": null,
      "outputs": [
        {
          "output_type": "execute_result",
          "data": {
            "text/plain": [
              "0        True\n",
              "1       False\n",
              "2        True\n",
              "3       False\n",
              "4        True\n",
              "        ...  \n",
              "1455     True\n",
              "1456    False\n",
              "1457    False\n",
              "1458    False\n",
              "1459    False\n",
              "Name: Exterior2nd, Length: 1460, dtype: bool"
            ]
          },
          "metadata": {
            "tags": []
          },
          "execution_count": 20
        }
      ]
    },
    {
      "cell_type": "code",
      "metadata": {
        "colab": {
          "base_uri": "https://localhost:8080/",
          "height": 402
        },
        "id": "1NRxi9E_5DE9",
        "outputId": "34e02bf5-26d8-4878-c813-78778dd9ff96"
      },
      "source": [
        "data[data['Exterior2nd']=='VinylSd']"
      ],
      "execution_count": null,
      "outputs": [
        {
          "output_type": "execute_result",
          "data": {
            "text/html": [
              "<div>\n",
              "<style scoped>\n",
              "    .dataframe tbody tr th:only-of-type {\n",
              "        vertical-align: middle;\n",
              "    }\n",
              "\n",
              "    .dataframe tbody tr th {\n",
              "        vertical-align: top;\n",
              "    }\n",
              "\n",
              "    .dataframe thead th {\n",
              "        text-align: right;\n",
              "    }\n",
              "</style>\n",
              "<table border=\"1\" class=\"dataframe\">\n",
              "  <thead>\n",
              "    <tr style=\"text-align: right;\">\n",
              "      <th></th>\n",
              "      <th>Neighborhood</th>\n",
              "      <th>Exterior1st</th>\n",
              "      <th>Exterior2nd</th>\n",
              "      <th>SalePrice</th>\n",
              "    </tr>\n",
              "  </thead>\n",
              "  <tbody>\n",
              "    <tr>\n",
              "      <th>0</th>\n",
              "      <td>CollgCr</td>\n",
              "      <td>VinylSd</td>\n",
              "      <td>VinylSd</td>\n",
              "      <td>208500</td>\n",
              "    </tr>\n",
              "    <tr>\n",
              "      <th>2</th>\n",
              "      <td>CollgCr</td>\n",
              "      <td>VinylSd</td>\n",
              "      <td>VinylSd</td>\n",
              "      <td>223500</td>\n",
              "    </tr>\n",
              "    <tr>\n",
              "      <th>4</th>\n",
              "      <td>NoRidge</td>\n",
              "      <td>VinylSd</td>\n",
              "      <td>VinylSd</td>\n",
              "      <td>250000</td>\n",
              "    </tr>\n",
              "    <tr>\n",
              "      <th>5</th>\n",
              "      <td>Mitchel</td>\n",
              "      <td>VinylSd</td>\n",
              "      <td>VinylSd</td>\n",
              "      <td>143000</td>\n",
              "    </tr>\n",
              "    <tr>\n",
              "      <th>6</th>\n",
              "      <td>Somerst</td>\n",
              "      <td>VinylSd</td>\n",
              "      <td>VinylSd</td>\n",
              "      <td>307000</td>\n",
              "    </tr>\n",
              "    <tr>\n",
              "      <th>...</th>\n",
              "      <td>...</td>\n",
              "      <td>...</td>\n",
              "      <td>...</td>\n",
              "      <td>...</td>\n",
              "    </tr>\n",
              "    <tr>\n",
              "      <th>1450</th>\n",
              "      <td>NAmes</td>\n",
              "      <td>VinylSd</td>\n",
              "      <td>VinylSd</td>\n",
              "      <td>136000</td>\n",
              "    </tr>\n",
              "    <tr>\n",
              "      <th>1452</th>\n",
              "      <td>Edwards</td>\n",
              "      <td>VinylSd</td>\n",
              "      <td>VinylSd</td>\n",
              "      <td>145000</td>\n",
              "    </tr>\n",
              "    <tr>\n",
              "      <th>1453</th>\n",
              "      <td>Mitchel</td>\n",
              "      <td>VinylSd</td>\n",
              "      <td>VinylSd</td>\n",
              "      <td>84500</td>\n",
              "    </tr>\n",
              "    <tr>\n",
              "      <th>1454</th>\n",
              "      <td>Somerst</td>\n",
              "      <td>VinylSd</td>\n",
              "      <td>VinylSd</td>\n",
              "      <td>185000</td>\n",
              "    </tr>\n",
              "    <tr>\n",
              "      <th>1455</th>\n",
              "      <td>Gilbert</td>\n",
              "      <td>VinylSd</td>\n",
              "      <td>VinylSd</td>\n",
              "      <td>175000</td>\n",
              "    </tr>\n",
              "  </tbody>\n",
              "</table>\n",
              "<p>504 rows × 4 columns</p>\n",
              "</div>"
            ],
            "text/plain": [
              "     Neighborhood Exterior1st Exterior2nd  SalePrice\n",
              "0         CollgCr     VinylSd     VinylSd     208500\n",
              "2         CollgCr     VinylSd     VinylSd     223500\n",
              "4         NoRidge     VinylSd     VinylSd     250000\n",
              "5         Mitchel     VinylSd     VinylSd     143000\n",
              "6         Somerst     VinylSd     VinylSd     307000\n",
              "...           ...         ...         ...        ...\n",
              "1450        NAmes     VinylSd     VinylSd     136000\n",
              "1452      Edwards     VinylSd     VinylSd     145000\n",
              "1453      Mitchel     VinylSd     VinylSd      84500\n",
              "1454      Somerst     VinylSd     VinylSd     185000\n",
              "1455      Gilbert     VinylSd     VinylSd     175000\n",
              "\n",
              "[504 rows x 4 columns]"
            ]
          },
          "metadata": {
            "tags": []
          },
          "execution_count": 21
        }
      ]
    },
    {
      "cell_type": "code",
      "metadata": {
        "colab": {
          "base_uri": "https://localhost:8080/"
        },
        "id": "9Qeh49Ar5j7g",
        "outputId": "029997ba-1333-41fd-b6d5-f9bc8a03c028"
      },
      "source": [
        "data[data['Exterior2nd']=='VinylSd'].mean()"
      ],
      "execution_count": null,
      "outputs": [
        {
          "output_type": "execute_result",
          "data": {
            "text/plain": [
              "SalePrice    214432.460317\n",
              "dtype: float64"
            ]
          },
          "metadata": {
            "tags": []
          },
          "execution_count": 22
        }
      ]
    },
    {
      "cell_type": "code",
      "metadata": {
        "colab": {
          "base_uri": "https://localhost:8080/",
          "height": 521
        },
        "id": "9OwdO3BX6SE5",
        "outputId": "1310bfc1-a001-4d2b-f5d0-d2c9536bff9f"
      },
      "source": [
        "mean_price=data.groupby(['Exterior2nd'])['SalePrice'].mean().reset_index()\r\n",
        "mean_price"
      ],
      "execution_count": null,
      "outputs": [
        {
          "output_type": "execute_result",
          "data": {
            "text/html": [
              "<div>\n",
              "<style scoped>\n",
              "    .dataframe tbody tr th:only-of-type {\n",
              "        vertical-align: middle;\n",
              "    }\n",
              "\n",
              "    .dataframe tbody tr th {\n",
              "        vertical-align: top;\n",
              "    }\n",
              "\n",
              "    .dataframe thead th {\n",
              "        text-align: right;\n",
              "    }\n",
              "</style>\n",
              "<table border=\"1\" class=\"dataframe\">\n",
              "  <thead>\n",
              "    <tr style=\"text-align: right;\">\n",
              "      <th></th>\n",
              "      <th>Exterior2nd</th>\n",
              "      <th>SalePrice</th>\n",
              "    </tr>\n",
              "  </thead>\n",
              "  <tbody>\n",
              "    <tr>\n",
              "      <th>0</th>\n",
              "      <td>AsbShng</td>\n",
              "      <td>114060.550000</td>\n",
              "    </tr>\n",
              "    <tr>\n",
              "      <th>1</th>\n",
              "      <td>AsphShn</td>\n",
              "      <td>138000.000000</td>\n",
              "    </tr>\n",
              "    <tr>\n",
              "      <th>2</th>\n",
              "      <td>Brk Cmn</td>\n",
              "      <td>126714.285714</td>\n",
              "    </tr>\n",
              "    <tr>\n",
              "      <th>3</th>\n",
              "      <td>BrkFace</td>\n",
              "      <td>195818.000000</td>\n",
              "    </tr>\n",
              "    <tr>\n",
              "      <th>4</th>\n",
              "      <td>CBlock</td>\n",
              "      <td>105000.000000</td>\n",
              "    </tr>\n",
              "    <tr>\n",
              "      <th>5</th>\n",
              "      <td>CmentBd</td>\n",
              "      <td>230093.833333</td>\n",
              "    </tr>\n",
              "    <tr>\n",
              "      <th>6</th>\n",
              "      <td>HdBoard</td>\n",
              "      <td>167661.565217</td>\n",
              "    </tr>\n",
              "    <tr>\n",
              "      <th>7</th>\n",
              "      <td>ImStucc</td>\n",
              "      <td>252070.000000</td>\n",
              "    </tr>\n",
              "    <tr>\n",
              "      <th>8</th>\n",
              "      <td>MetalSd</td>\n",
              "      <td>149803.172897</td>\n",
              "    </tr>\n",
              "    <tr>\n",
              "      <th>9</th>\n",
              "      <td>Other</td>\n",
              "      <td>319000.000000</td>\n",
              "    </tr>\n",
              "    <tr>\n",
              "      <th>10</th>\n",
              "      <td>Plywood</td>\n",
              "      <td>168112.387324</td>\n",
              "    </tr>\n",
              "    <tr>\n",
              "      <th>11</th>\n",
              "      <td>Stone</td>\n",
              "      <td>158224.800000</td>\n",
              "    </tr>\n",
              "    <tr>\n",
              "      <th>12</th>\n",
              "      <td>Stucco</td>\n",
              "      <td>155905.153846</td>\n",
              "    </tr>\n",
              "    <tr>\n",
              "      <th>13</th>\n",
              "      <td>VinylSd</td>\n",
              "      <td>214432.460317</td>\n",
              "    </tr>\n",
              "    <tr>\n",
              "      <th>14</th>\n",
              "      <td>Wd Sdng</td>\n",
              "      <td>148386.065990</td>\n",
              "    </tr>\n",
              "    <tr>\n",
              "      <th>15</th>\n",
              "      <td>Wd Shng</td>\n",
              "      <td>161328.947368</td>\n",
              "    </tr>\n",
              "  </tbody>\n",
              "</table>\n",
              "</div>"
            ],
            "text/plain": [
              "   Exterior2nd      SalePrice\n",
              "0      AsbShng  114060.550000\n",
              "1      AsphShn  138000.000000\n",
              "2      Brk Cmn  126714.285714\n",
              "3      BrkFace  195818.000000\n",
              "4       CBlock  105000.000000\n",
              "5      CmentBd  230093.833333\n",
              "6      HdBoard  167661.565217\n",
              "7      ImStucc  252070.000000\n",
              "8      MetalSd  149803.172897\n",
              "9        Other  319000.000000\n",
              "10     Plywood  168112.387324\n",
              "11       Stone  158224.800000\n",
              "12      Stucco  155905.153846\n",
              "13     VinylSd  214432.460317\n",
              "14     Wd Sdng  148386.065990\n",
              "15     Wd Shng  161328.947368"
            ]
          },
          "metadata": {
            "tags": []
          },
          "execution_count": 23
        }
      ]
    },
    {
      "cell_type": "code",
      "metadata": {
        "colab": {
          "base_uri": "https://localhost:8080/",
          "height": 195
        },
        "id": "UZJwmjnj517o",
        "outputId": "f8f8f3f7-3746-45db-e4ed-78239974aad5"
      },
      "source": [
        "data.head()"
      ],
      "execution_count": null,
      "outputs": [
        {
          "output_type": "execute_result",
          "data": {
            "text/html": [
              "<div>\n",
              "<style scoped>\n",
              "    .dataframe tbody tr th:only-of-type {\n",
              "        vertical-align: middle;\n",
              "    }\n",
              "\n",
              "    .dataframe tbody tr th {\n",
              "        vertical-align: top;\n",
              "    }\n",
              "\n",
              "    .dataframe thead th {\n",
              "        text-align: right;\n",
              "    }\n",
              "</style>\n",
              "<table border=\"1\" class=\"dataframe\">\n",
              "  <thead>\n",
              "    <tr style=\"text-align: right;\">\n",
              "      <th></th>\n",
              "      <th>Neighborhood</th>\n",
              "      <th>Exterior1st</th>\n",
              "      <th>Exterior2nd</th>\n",
              "      <th>SalePrice</th>\n",
              "    </tr>\n",
              "  </thead>\n",
              "  <tbody>\n",
              "    <tr>\n",
              "      <th>0</th>\n",
              "      <td>CollgCr</td>\n",
              "      <td>VinylSd</td>\n",
              "      <td>VinylSd</td>\n",
              "      <td>208500</td>\n",
              "    </tr>\n",
              "    <tr>\n",
              "      <th>1</th>\n",
              "      <td>Veenker</td>\n",
              "      <td>MetalSd</td>\n",
              "      <td>MetalSd</td>\n",
              "      <td>181500</td>\n",
              "    </tr>\n",
              "    <tr>\n",
              "      <th>2</th>\n",
              "      <td>CollgCr</td>\n",
              "      <td>VinylSd</td>\n",
              "      <td>VinylSd</td>\n",
              "      <td>223500</td>\n",
              "    </tr>\n",
              "    <tr>\n",
              "      <th>3</th>\n",
              "      <td>Crawfor</td>\n",
              "      <td>Wd Sdng</td>\n",
              "      <td>Wd Shng</td>\n",
              "      <td>140000</td>\n",
              "    </tr>\n",
              "    <tr>\n",
              "      <th>4</th>\n",
              "      <td>NoRidge</td>\n",
              "      <td>VinylSd</td>\n",
              "      <td>VinylSd</td>\n",
              "      <td>250000</td>\n",
              "    </tr>\n",
              "  </tbody>\n",
              "</table>\n",
              "</div>"
            ],
            "text/plain": [
              "  Neighborhood Exterior1st Exterior2nd  SalePrice\n",
              "0      CollgCr     VinylSd     VinylSd     208500\n",
              "1      Veenker     MetalSd     MetalSd     181500\n",
              "2      CollgCr     VinylSd     VinylSd     223500\n",
              "3      Crawfor     Wd Sdng     Wd Shng     140000\n",
              "4      NoRidge     VinylSd     VinylSd     250000"
            ]
          },
          "metadata": {
            "tags": []
          },
          "execution_count": 24
        }
      ]
    },
    {
      "cell_type": "code",
      "metadata": {
        "colab": {
          "base_uri": "https://localhost:8080/",
          "height": 521
        },
        "id": "r7oHQVPl7zdo",
        "outputId": "68a6cd94-b9d0-4286-8e2a-93f592862d7a"
      },
      "source": [
        "t=temp.merge(mean_price,on='Exterior2nd',how='left')\r\n",
        "t"
      ],
      "execution_count": null,
      "outputs": [
        {
          "output_type": "execute_result",
          "data": {
            "text/html": [
              "<div>\n",
              "<style scoped>\n",
              "    .dataframe tbody tr th:only-of-type {\n",
              "        vertical-align: middle;\n",
              "    }\n",
              "\n",
              "    .dataframe tbody tr th {\n",
              "        vertical-align: top;\n",
              "    }\n",
              "\n",
              "    .dataframe thead th {\n",
              "        text-align: right;\n",
              "    }\n",
              "</style>\n",
              "<table border=\"1\" class=\"dataframe\">\n",
              "  <thead>\n",
              "    <tr style=\"text-align: right;\">\n",
              "      <th></th>\n",
              "      <th>Exterior2nd</th>\n",
              "      <th>% of houses</th>\n",
              "      <th>SalePrice</th>\n",
              "    </tr>\n",
              "  </thead>\n",
              "  <tbody>\n",
              "    <tr>\n",
              "      <th>0</th>\n",
              "      <td>VinylSd</td>\n",
              "      <td>0.345205</td>\n",
              "      <td>214432.460317</td>\n",
              "    </tr>\n",
              "    <tr>\n",
              "      <th>1</th>\n",
              "      <td>MetalSd</td>\n",
              "      <td>0.146575</td>\n",
              "      <td>149803.172897</td>\n",
              "    </tr>\n",
              "    <tr>\n",
              "      <th>2</th>\n",
              "      <td>HdBoard</td>\n",
              "      <td>0.141781</td>\n",
              "      <td>167661.565217</td>\n",
              "    </tr>\n",
              "    <tr>\n",
              "      <th>3</th>\n",
              "      <td>Wd Sdng</td>\n",
              "      <td>0.134932</td>\n",
              "      <td>148386.065990</td>\n",
              "    </tr>\n",
              "    <tr>\n",
              "      <th>4</th>\n",
              "      <td>Plywood</td>\n",
              "      <td>0.097260</td>\n",
              "      <td>168112.387324</td>\n",
              "    </tr>\n",
              "    <tr>\n",
              "      <th>5</th>\n",
              "      <td>CmentBd</td>\n",
              "      <td>0.041096</td>\n",
              "      <td>230093.833333</td>\n",
              "    </tr>\n",
              "    <tr>\n",
              "      <th>6</th>\n",
              "      <td>Wd Shng</td>\n",
              "      <td>0.026027</td>\n",
              "      <td>161328.947368</td>\n",
              "    </tr>\n",
              "    <tr>\n",
              "      <th>7</th>\n",
              "      <td>Stucco</td>\n",
              "      <td>0.017808</td>\n",
              "      <td>155905.153846</td>\n",
              "    </tr>\n",
              "    <tr>\n",
              "      <th>8</th>\n",
              "      <td>BrkFace</td>\n",
              "      <td>0.017123</td>\n",
              "      <td>195818.000000</td>\n",
              "    </tr>\n",
              "    <tr>\n",
              "      <th>9</th>\n",
              "      <td>AsbShng</td>\n",
              "      <td>0.013699</td>\n",
              "      <td>114060.550000</td>\n",
              "    </tr>\n",
              "    <tr>\n",
              "      <th>10</th>\n",
              "      <td>ImStucc</td>\n",
              "      <td>0.006849</td>\n",
              "      <td>252070.000000</td>\n",
              "    </tr>\n",
              "    <tr>\n",
              "      <th>11</th>\n",
              "      <td>Brk Cmn</td>\n",
              "      <td>0.004795</td>\n",
              "      <td>126714.285714</td>\n",
              "    </tr>\n",
              "    <tr>\n",
              "      <th>12</th>\n",
              "      <td>Stone</td>\n",
              "      <td>0.003425</td>\n",
              "      <td>158224.800000</td>\n",
              "    </tr>\n",
              "    <tr>\n",
              "      <th>13</th>\n",
              "      <td>AsphShn</td>\n",
              "      <td>0.002055</td>\n",
              "      <td>138000.000000</td>\n",
              "    </tr>\n",
              "    <tr>\n",
              "      <th>14</th>\n",
              "      <td>CBlock</td>\n",
              "      <td>0.000685</td>\n",
              "      <td>105000.000000</td>\n",
              "    </tr>\n",
              "    <tr>\n",
              "      <th>15</th>\n",
              "      <td>Other</td>\n",
              "      <td>0.000685</td>\n",
              "      <td>319000.000000</td>\n",
              "    </tr>\n",
              "  </tbody>\n",
              "</table>\n",
              "</div>"
            ],
            "text/plain": [
              "   Exterior2nd  % of houses      SalePrice\n",
              "0      VinylSd     0.345205  214432.460317\n",
              "1      MetalSd     0.146575  149803.172897\n",
              "2      HdBoard     0.141781  167661.565217\n",
              "3      Wd Sdng     0.134932  148386.065990\n",
              "4      Plywood     0.097260  168112.387324\n",
              "5      CmentBd     0.041096  230093.833333\n",
              "6      Wd Shng     0.026027  161328.947368\n",
              "7       Stucco     0.017808  155905.153846\n",
              "8      BrkFace     0.017123  195818.000000\n",
              "9      AsbShng     0.013699  114060.550000\n",
              "10     ImStucc     0.006849  252070.000000\n",
              "11     Brk Cmn     0.004795  126714.285714\n",
              "12       Stone     0.003425  158224.800000\n",
              "13     AsphShn     0.002055  138000.000000\n",
              "14      CBlock     0.000685  105000.000000\n",
              "15       Other     0.000685  319000.000000"
            ]
          },
          "metadata": {
            "tags": []
          },
          "execution_count": 25
        }
      ]
    },
    {
      "cell_type": "code",
      "metadata": {
        "id": "DyYrdnQV3DEw"
      },
      "source": [
        "# to get mean of salesprice per categories\r\n",
        "def get(df,cat):\r\n",
        "  temp=data[col].value_counts()/total_houses\r\n",
        "  temp=temp.reset_index()\r\n",
        "  temp.columns=[cat,'% of houses']\r\n",
        "  mean_price=df.groupby([cat])['SalePrice'].mean().reset_index()\r\n",
        "  temp=temp.merge(mean_price,on=cat,how='left')\r\n",
        "  return temp"
      ],
      "execution_count": null,
      "outputs": []
    },
    {
      "cell_type": "code",
      "metadata": {
        "id": "2dG8WzPr8JZD"
      },
      "source": [
        "ext_df=get(data,'Exterior2nd')"
      ],
      "execution_count": null,
      "outputs": []
    },
    {
      "cell_type": "code",
      "metadata": {
        "colab": {
          "base_uri": "https://localhost:8080/",
          "height": 521
        },
        "id": "O9Go5Rnj9A7c",
        "outputId": "cd86e638-556d-46eb-ef86-af40345162ee"
      },
      "source": [
        "ext_df"
      ],
      "execution_count": null,
      "outputs": [
        {
          "output_type": "execute_result",
          "data": {
            "text/html": [
              "<div>\n",
              "<style scoped>\n",
              "    .dataframe tbody tr th:only-of-type {\n",
              "        vertical-align: middle;\n",
              "    }\n",
              "\n",
              "    .dataframe tbody tr th {\n",
              "        vertical-align: top;\n",
              "    }\n",
              "\n",
              "    .dataframe thead th {\n",
              "        text-align: right;\n",
              "    }\n",
              "</style>\n",
              "<table border=\"1\" class=\"dataframe\">\n",
              "  <thead>\n",
              "    <tr style=\"text-align: right;\">\n",
              "      <th></th>\n",
              "      <th>Exterior2nd</th>\n",
              "      <th>% of houses</th>\n",
              "      <th>SalePrice</th>\n",
              "    </tr>\n",
              "  </thead>\n",
              "  <tbody>\n",
              "    <tr>\n",
              "      <th>0</th>\n",
              "      <td>VinylSd</td>\n",
              "      <td>0.345205</td>\n",
              "      <td>214432.460317</td>\n",
              "    </tr>\n",
              "    <tr>\n",
              "      <th>1</th>\n",
              "      <td>MetalSd</td>\n",
              "      <td>0.146575</td>\n",
              "      <td>149803.172897</td>\n",
              "    </tr>\n",
              "    <tr>\n",
              "      <th>2</th>\n",
              "      <td>HdBoard</td>\n",
              "      <td>0.141781</td>\n",
              "      <td>167661.565217</td>\n",
              "    </tr>\n",
              "    <tr>\n",
              "      <th>3</th>\n",
              "      <td>Wd Sdng</td>\n",
              "      <td>0.134932</td>\n",
              "      <td>148386.065990</td>\n",
              "    </tr>\n",
              "    <tr>\n",
              "      <th>4</th>\n",
              "      <td>Plywood</td>\n",
              "      <td>0.097260</td>\n",
              "      <td>168112.387324</td>\n",
              "    </tr>\n",
              "    <tr>\n",
              "      <th>5</th>\n",
              "      <td>CmentBd</td>\n",
              "      <td>0.041096</td>\n",
              "      <td>230093.833333</td>\n",
              "    </tr>\n",
              "    <tr>\n",
              "      <th>6</th>\n",
              "      <td>Wd Shng</td>\n",
              "      <td>0.026027</td>\n",
              "      <td>161328.947368</td>\n",
              "    </tr>\n",
              "    <tr>\n",
              "      <th>7</th>\n",
              "      <td>Stucco</td>\n",
              "      <td>0.017808</td>\n",
              "      <td>155905.153846</td>\n",
              "    </tr>\n",
              "    <tr>\n",
              "      <th>8</th>\n",
              "      <td>BrkFace</td>\n",
              "      <td>0.017123</td>\n",
              "      <td>195818.000000</td>\n",
              "    </tr>\n",
              "    <tr>\n",
              "      <th>9</th>\n",
              "      <td>AsbShng</td>\n",
              "      <td>0.013699</td>\n",
              "      <td>114060.550000</td>\n",
              "    </tr>\n",
              "    <tr>\n",
              "      <th>10</th>\n",
              "      <td>ImStucc</td>\n",
              "      <td>0.006849</td>\n",
              "      <td>252070.000000</td>\n",
              "    </tr>\n",
              "    <tr>\n",
              "      <th>11</th>\n",
              "      <td>Brk Cmn</td>\n",
              "      <td>0.004795</td>\n",
              "      <td>126714.285714</td>\n",
              "    </tr>\n",
              "    <tr>\n",
              "      <th>12</th>\n",
              "      <td>Stone</td>\n",
              "      <td>0.003425</td>\n",
              "      <td>158224.800000</td>\n",
              "    </tr>\n",
              "    <tr>\n",
              "      <th>13</th>\n",
              "      <td>AsphShn</td>\n",
              "      <td>0.002055</td>\n",
              "      <td>138000.000000</td>\n",
              "    </tr>\n",
              "    <tr>\n",
              "      <th>14</th>\n",
              "      <td>CBlock</td>\n",
              "      <td>0.000685</td>\n",
              "      <td>105000.000000</td>\n",
              "    </tr>\n",
              "    <tr>\n",
              "      <th>15</th>\n",
              "      <td>Other</td>\n",
              "      <td>0.000685</td>\n",
              "      <td>319000.000000</td>\n",
              "    </tr>\n",
              "  </tbody>\n",
              "</table>\n",
              "</div>"
            ],
            "text/plain": [
              "   Exterior2nd  % of houses      SalePrice\n",
              "0      VinylSd     0.345205  214432.460317\n",
              "1      MetalSd     0.146575  149803.172897\n",
              "2      HdBoard     0.141781  167661.565217\n",
              "3      Wd Sdng     0.134932  148386.065990\n",
              "4      Plywood     0.097260  168112.387324\n",
              "5      CmentBd     0.041096  230093.833333\n",
              "6      Wd Shng     0.026027  161328.947368\n",
              "7       Stucco     0.017808  155905.153846\n",
              "8      BrkFace     0.017123  195818.000000\n",
              "9      AsbShng     0.013699  114060.550000\n",
              "10     ImStucc     0.006849  252070.000000\n",
              "11     Brk Cmn     0.004795  126714.285714\n",
              "12       Stone     0.003425  158224.800000\n",
              "13     AsphShn     0.002055  138000.000000\n",
              "14      CBlock     0.000685  105000.000000\n",
              "15       Other     0.000685  319000.000000"
            ]
          },
          "metadata": {
            "tags": []
          },
          "execution_count": 28
        }
      ]
    },
    {
      "cell_type": "code",
      "metadata": {
        "colab": {
          "base_uri": "https://localhost:8080/",
          "height": 282
        },
        "id": "fgJgzoTm9GaG",
        "outputId": "5cef5aec-fe85-4e4c-876e-bbea9adb4254"
      },
      "source": [
        "ext_df.plot()"
      ],
      "execution_count": null,
      "outputs": [
        {
          "output_type": "execute_result",
          "data": {
            "text/plain": [
              "<matplotlib.axes._subplots.AxesSubplot at 0x7feaa4a11860>"
            ]
          },
          "metadata": {
            "tags": []
          },
          "execution_count": 29
        },
        {
          "output_type": "display_data",
          "data": {
            "image/png": "[encoded data removed]",
            "text/plain": [
              "<Figure size 432x288 with 1 Axes>"
            ]
          },
          "metadata": {
            "tags": [],
            "needs_background": "light"
          }
        }
      ]
    },
    {
      "cell_type": "code",
      "metadata": {
        "id": "CTIFRgEd9Iph"
      },
      "source": [
        "def plot_cats(df,cat):\r\n",
        "  fig,ax1=plt.subplots()\r\n",
        "  plt.xticks(df.index,df[cat],rotation=90)\r\n",
        "  ax2=ax1.twinx()\r\n",
        "  ax1.bar(df.index,df['% of houses'],color='grey')\r\n",
        "  ax2.plot(df.index,df['SalePrice'],color='green',label='House Price')\r\n",
        "  ax1.axhline(y=0.05,color='red')\r\n",
        "  ax1.set_ylabel('% of houses per category')\r\n",
        "  ax1.set_xlabel(cat)\r\n",
        "  ax2.set_ylabel('Mean House Price per Category')\r\n",
        "  plt.show()"
      ],
      "execution_count": null,
      "outputs": []
    },
    {
      "cell_type": "code",
      "metadata": {
        "colab": {
          "base_uri": "https://localhost:8080/",
          "height": 315
        },
        "id": "Y_k-BCus-jex",
        "outputId": "b0c130ef-08f4-4077-b8c2-c71e168755a9"
      },
      "source": [
        "plot_cats(t,'Exterior2nd')"
      ],
      "execution_count": null,
      "outputs": [
        {
          "output_type": "display_data",
          "data": {
            "image/png": "[encoded data removed]",
            "text/plain": [
              "<Figure size 432x288 with 2 Axes>"
            ]
          },
          "metadata": {
            "tags": [],
            "needs_background": "light"
          }
        }
      ]
    },
    {
      "cell_type": "code",
      "metadata": {
        "colab": {
          "base_uri": "https://localhost:8080/",
          "height": 918
        },
        "id": "7XdqbnPa_ELS",
        "outputId": "7987d8f2-b319-43bb-e93e-cedfc8cde8c9"
      },
      "source": [
        "for col in feature_cols:\r\n",
        "  temp=get(data,col)\r\n",
        "  plot_cats(temp,col)"
      ],
      "execution_count": null,
      "outputs": [
        {
          "output_type": "display_data",
          "data": {
            "image/png": "[encoded data removed]",
            "text/plain": [
              "<Figure size 432x288 with 2 Axes>"
            ]
          },
          "metadata": {
            "tags": [],
            "needs_background": "light"
          }
        },
        {
          "output_type": "display_data",
          "data": {
            "image/png": "[encoded data removed]",
            "text/plain": [
              "<Figure size 432x288 with 2 Axes>"
            ]
          },
          "metadata": {
            "tags": [],
            "needs_background": "light"
          }
        },
        {
          "output_type": "display_data",
          "data": {
            "image/png": "[encoded data removed]",
            "text/plain": [
              "<Figure size 432x288 with 2 Axes>"
            ]
          },
          "metadata": {
            "tags": [],
            "needs_background": "light"
          }
        }
      ]
    },
    {
      "cell_type": "markdown",
      "metadata": {
        "id": "G6Mv1eZx_u48"
      },
      "source": [
        "# **Grouping of Rare Labels**"
      ]
    },
    {
      "cell_type": "markdown",
      "metadata": {
        "id": "58GPKxBg_sDX"
      },
      "source": [
        ""
      ]
    },
    {
      "cell_type": "code",
      "metadata": {
        "colab": {
          "base_uri": "https://localhost:8080/",
          "height": 521
        },
        "id": "TMoZy4WHAFp6",
        "outputId": "94a95ce5-11df-4645-8371-c171d740615f"
      },
      "source": [
        "t"
      ],
      "execution_count": null,
      "outputs": [
        {
          "output_type": "execute_result",
          "data": {
            "text/html": [
              "<div>\n",
              "<style scoped>\n",
              "    .dataframe tbody tr th:only-of-type {\n",
              "        vertical-align: middle;\n",
              "    }\n",
              "\n",
              "    .dataframe tbody tr th {\n",
              "        vertical-align: top;\n",
              "    }\n",
              "\n",
              "    .dataframe thead th {\n",
              "        text-align: right;\n",
              "    }\n",
              "</style>\n",
              "<table border=\"1\" class=\"dataframe\">\n",
              "  <thead>\n",
              "    <tr style=\"text-align: right;\">\n",
              "      <th></th>\n",
              "      <th>Exterior2nd</th>\n",
              "      <th>% of houses</th>\n",
              "      <th>SalePrice</th>\n",
              "    </tr>\n",
              "  </thead>\n",
              "  <tbody>\n",
              "    <tr>\n",
              "      <th>0</th>\n",
              "      <td>VinylSd</td>\n",
              "      <td>0.345205</td>\n",
              "      <td>214432.460317</td>\n",
              "    </tr>\n",
              "    <tr>\n",
              "      <th>1</th>\n",
              "      <td>MetalSd</td>\n",
              "      <td>0.146575</td>\n",
              "      <td>149803.172897</td>\n",
              "    </tr>\n",
              "    <tr>\n",
              "      <th>2</th>\n",
              "      <td>HdBoard</td>\n",
              "      <td>0.141781</td>\n",
              "      <td>167661.565217</td>\n",
              "    </tr>\n",
              "    <tr>\n",
              "      <th>3</th>\n",
              "      <td>Wd Sdng</td>\n",
              "      <td>0.134932</td>\n",
              "      <td>148386.065990</td>\n",
              "    </tr>\n",
              "    <tr>\n",
              "      <th>4</th>\n",
              "      <td>Plywood</td>\n",
              "      <td>0.097260</td>\n",
              "      <td>168112.387324</td>\n",
              "    </tr>\n",
              "    <tr>\n",
              "      <th>5</th>\n",
              "      <td>CmentBd</td>\n",
              "      <td>0.041096</td>\n",
              "      <td>230093.833333</td>\n",
              "    </tr>\n",
              "    <tr>\n",
              "      <th>6</th>\n",
              "      <td>Wd Shng</td>\n",
              "      <td>0.026027</td>\n",
              "      <td>161328.947368</td>\n",
              "    </tr>\n",
              "    <tr>\n",
              "      <th>7</th>\n",
              "      <td>Stucco</td>\n",
              "      <td>0.017808</td>\n",
              "      <td>155905.153846</td>\n",
              "    </tr>\n",
              "    <tr>\n",
              "      <th>8</th>\n",
              "      <td>BrkFace</td>\n",
              "      <td>0.017123</td>\n",
              "      <td>195818.000000</td>\n",
              "    </tr>\n",
              "    <tr>\n",
              "      <th>9</th>\n",
              "      <td>AsbShng</td>\n",
              "      <td>0.013699</td>\n",
              "      <td>114060.550000</td>\n",
              "    </tr>\n",
              "    <tr>\n",
              "      <th>10</th>\n",
              "      <td>ImStucc</td>\n",
              "      <td>0.006849</td>\n",
              "      <td>252070.000000</td>\n",
              "    </tr>\n",
              "    <tr>\n",
              "      <th>11</th>\n",
              "      <td>Brk Cmn</td>\n",
              "      <td>0.004795</td>\n",
              "      <td>126714.285714</td>\n",
              "    </tr>\n",
              "    <tr>\n",
              "      <th>12</th>\n",
              "      <td>Stone</td>\n",
              "      <td>0.003425</td>\n",
              "      <td>158224.800000</td>\n",
              "    </tr>\n",
              "    <tr>\n",
              "      <th>13</th>\n",
              "      <td>AsphShn</td>\n",
              "      <td>0.002055</td>\n",
              "      <td>138000.000000</td>\n",
              "    </tr>\n",
              "    <tr>\n",
              "      <th>14</th>\n",
              "      <td>CBlock</td>\n",
              "      <td>0.000685</td>\n",
              "      <td>105000.000000</td>\n",
              "    </tr>\n",
              "    <tr>\n",
              "      <th>15</th>\n",
              "      <td>Other</td>\n",
              "      <td>0.000685</td>\n",
              "      <td>319000.000000</td>\n",
              "    </tr>\n",
              "  </tbody>\n",
              "</table>\n",
              "</div>"
            ],
            "text/plain": [
              "   Exterior2nd  % of houses      SalePrice\n",
              "0      VinylSd     0.345205  214432.460317\n",
              "1      MetalSd     0.146575  149803.172897\n",
              "2      HdBoard     0.141781  167661.565217\n",
              "3      Wd Sdng     0.134932  148386.065990\n",
              "4      Plywood     0.097260  168112.387324\n",
              "5      CmentBd     0.041096  230093.833333\n",
              "6      Wd Shng     0.026027  161328.947368\n",
              "7       Stucco     0.017808  155905.153846\n",
              "8      BrkFace     0.017123  195818.000000\n",
              "9      AsbShng     0.013699  114060.550000\n",
              "10     ImStucc     0.006849  252070.000000\n",
              "11     Brk Cmn     0.004795  126714.285714\n",
              "12       Stone     0.003425  158224.800000\n",
              "13     AsphShn     0.002055  138000.000000\n",
              "14      CBlock     0.000685  105000.000000\n",
              "15       Other     0.000685  319000.000000"
            ]
          },
          "metadata": {
            "tags": []
          },
          "execution_count": 33
        }
      ]
    },
    {
      "cell_type": "code",
      "metadata": {
        "id": "PjX8PDRFAUMn"
      },
      "source": [
        "grouping_dict={'CmentBd':'rare','Wd Shng':'rare'}"
      ],
      "execution_count": null,
      "outputs": []
    },
    {
      "cell_type": "code",
      "metadata": {
        "colab": {
          "base_uri": "https://localhost:8080/"
        },
        "id": "Ni6fNOaDAhQV",
        "outputId": "9be374f9-fa27-4ace-c7a4-4328c1ebcf08"
      },
      "source": [
        "t['Exterior2nd'].map(grouping_dict)"
      ],
      "execution_count": null,
      "outputs": [
        {
          "output_type": "execute_result",
          "data": {
            "text/plain": [
              "0      NaN\n",
              "1      NaN\n",
              "2      NaN\n",
              "3      NaN\n",
              "4      NaN\n",
              "5     rare\n",
              "6     rare\n",
              "7      NaN\n",
              "8      NaN\n",
              "9      NaN\n",
              "10     NaN\n",
              "11     NaN\n",
              "12     NaN\n",
              "13     NaN\n",
              "14     NaN\n",
              "15     NaN\n",
              "Name: Exterior2nd, dtype: object"
            ]
          },
          "metadata": {
            "tags": []
          },
          "execution_count": 35
        }
      ]
    },
    {
      "cell_type": "code",
      "metadata": {
        "colab": {
          "base_uri": "https://localhost:8080/"
        },
        "id": "TPaKf_N4BG_X",
        "outputId": "d98343ae-4329-4758-9125-81a5f05f8de4"
      },
      "source": [
        "(data['Exterior2nd'].value_counts()/total_houses).index"
      ],
      "execution_count": null,
      "outputs": [
        {
          "output_type": "execute_result",
          "data": {
            "text/plain": [
              "Index(['VinylSd', 'MetalSd', 'HdBoard', 'Wd Sdng', 'Plywood', 'CmentBd',\n",
              "       'Wd Shng', 'Stucco', 'BrkFace', 'AsbShng', 'ImStucc', 'Brk Cmn',\n",
              "       'Stone', 'AsphShn', 'CBlock', 'Other'],\n",
              "      dtype='object')"
            ]
          },
          "metadata": {
            "tags": []
          },
          "execution_count": 36
        }
      ]
    },
    {
      "cell_type": "code",
      "metadata": {
        "id": "6FqtqJiI_Y_t"
      },
      "source": [
        "def rare(df,cat):\r\n",
        "  temp=df[cat].value_counts()/total_houses\r\n",
        "  grouping_dict={\r\n",
        "   k: 'rare' if k not in temp[temp>=0.05].index else k for k in temp.index   \r\n",
        "  }\r\n",
        "  t=df[cat].map(grouping_dict)\r\n",
        "  return t"
      ],
      "execution_count": null,
      "outputs": []
    },
    {
      "cell_type": "code",
      "metadata": {
        "colab": {
          "base_uri": "https://localhost:8080/"
        },
        "id": "lzNl3w-IB0hk",
        "outputId": "68f43e8d-3aa0-4bce-9c5e-41b523d82b13"
      },
      "source": [
        "rare(data,'Exterior2nd')"
      ],
      "execution_count": null,
      "outputs": [
        {
          "output_type": "execute_result",
          "data": {
            "text/plain": [
              "0       VinylSd\n",
              "1       MetalSd\n",
              "2       VinylSd\n",
              "3          rare\n",
              "4       VinylSd\n",
              "         ...   \n",
              "1455    VinylSd\n",
              "1456    Plywood\n",
              "1457       rare\n",
              "1458    MetalSd\n",
              "1459    HdBoard\n",
              "Name: Exterior2nd, Length: 1460, dtype: object"
            ]
          },
          "metadata": {
            "tags": []
          },
          "execution_count": 38
        }
      ]
    },
    {
      "cell_type": "code",
      "metadata": {
        "colab": {
          "base_uri": "https://localhost:8080/"
        },
        "id": "ALUDEPoUB6_e",
        "outputId": "e66bf7b9-cf16-4758-9ff9-aa12d4f0d0e3"
      },
      "source": [
        "rare(data,'Exterior2nd').value_counts()"
      ],
      "execution_count": null,
      "outputs": [
        {
          "output_type": "execute_result",
          "data": {
            "text/plain": [
              "VinylSd    504\n",
              "MetalSd    214\n",
              "HdBoard    207\n",
              "Wd Sdng    197\n",
              "rare       196\n",
              "Plywood    142\n",
              "Name: Exterior2nd, dtype: int64"
            ]
          },
          "metadata": {
            "tags": []
          },
          "execution_count": 39
        }
      ]
    },
    {
      "cell_type": "code",
      "metadata": {
        "colab": {
          "base_uri": "https://localhost:8080/",
          "height": 402
        },
        "id": "Iy0CdX0nCQBn",
        "outputId": "5a8f52b3-489a-4f19-b378-2139bb1d63e8"
      },
      "source": [
        "data['Exterior2nd']=rare(data,'Exterior2nd')\r\n",
        "data"
      ],
      "execution_count": null,
      "outputs": [
        {
          "output_type": "execute_result",
          "data": {
            "text/html": [
              "<div>\n",
              "<style scoped>\n",
              "    .dataframe tbody tr th:only-of-type {\n",
              "        vertical-align: middle;\n",
              "    }\n",
              "\n",
              "    .dataframe tbody tr th {\n",
              "        vertical-align: top;\n",
              "    }\n",
              "\n",
              "    .dataframe thead th {\n",
              "        text-align: right;\n",
              "    }\n",
              "</style>\n",
              "<table border=\"1\" class=\"dataframe\">\n",
              "  <thead>\n",
              "    <tr style=\"text-align: right;\">\n",
              "      <th></th>\n",
              "      <th>Neighborhood</th>\n",
              "      <th>Exterior1st</th>\n",
              "      <th>Exterior2nd</th>\n",
              "      <th>SalePrice</th>\n",
              "    </tr>\n",
              "  </thead>\n",
              "  <tbody>\n",
              "    <tr>\n",
              "      <th>0</th>\n",
              "      <td>CollgCr</td>\n",
              "      <td>VinylSd</td>\n",
              "      <td>VinylSd</td>\n",
              "      <td>208500</td>\n",
              "    </tr>\n",
              "    <tr>\n",
              "      <th>1</th>\n",
              "      <td>Veenker</td>\n",
              "      <td>MetalSd</td>\n",
              "      <td>MetalSd</td>\n",
              "      <td>181500</td>\n",
              "    </tr>\n",
              "    <tr>\n",
              "      <th>2</th>\n",
              "      <td>CollgCr</td>\n",
              "      <td>VinylSd</td>\n",
              "      <td>VinylSd</td>\n",
              "      <td>223500</td>\n",
              "    </tr>\n",
              "    <tr>\n",
              "      <th>3</th>\n",
              "      <td>Crawfor</td>\n",
              "      <td>Wd Sdng</td>\n",
              "      <td>rare</td>\n",
              "      <td>140000</td>\n",
              "    </tr>\n",
              "    <tr>\n",
              "      <th>4</th>\n",
              "      <td>NoRidge</td>\n",
              "      <td>VinylSd</td>\n",
              "      <td>VinylSd</td>\n",
              "      <td>250000</td>\n",
              "    </tr>\n",
              "    <tr>\n",
              "      <th>...</th>\n",
              "      <td>...</td>\n",
              "      <td>...</td>\n",
              "      <td>...</td>\n",
              "      <td>...</td>\n",
              "    </tr>\n",
              "    <tr>\n",
              "      <th>1455</th>\n",
              "      <td>Gilbert</td>\n",
              "      <td>VinylSd</td>\n",
              "      <td>VinylSd</td>\n",
              "      <td>175000</td>\n",
              "    </tr>\n",
              "    <tr>\n",
              "      <th>1456</th>\n",
              "      <td>NWAmes</td>\n",
              "      <td>Plywood</td>\n",
              "      <td>Plywood</td>\n",
              "      <td>210000</td>\n",
              "    </tr>\n",
              "    <tr>\n",
              "      <th>1457</th>\n",
              "      <td>Crawfor</td>\n",
              "      <td>CemntBd</td>\n",
              "      <td>rare</td>\n",
              "      <td>266500</td>\n",
              "    </tr>\n",
              "    <tr>\n",
              "      <th>1458</th>\n",
              "      <td>NAmes</td>\n",
              "      <td>MetalSd</td>\n",
              "      <td>MetalSd</td>\n",
              "      <td>142125</td>\n",
              "    </tr>\n",
              "    <tr>\n",
              "      <th>1459</th>\n",
              "      <td>Edwards</td>\n",
              "      <td>HdBoard</td>\n",
              "      <td>HdBoard</td>\n",
              "      <td>147500</td>\n",
              "    </tr>\n",
              "  </tbody>\n",
              "</table>\n",
              "<p>1460 rows × 4 columns</p>\n",
              "</div>"
            ],
            "text/plain": [
              "     Neighborhood Exterior1st Exterior2nd  SalePrice\n",
              "0         CollgCr     VinylSd     VinylSd     208500\n",
              "1         Veenker     MetalSd     MetalSd     181500\n",
              "2         CollgCr     VinylSd     VinylSd     223500\n",
              "3         Crawfor     Wd Sdng        rare     140000\n",
              "4         NoRidge     VinylSd     VinylSd     250000\n",
              "...           ...         ...         ...        ...\n",
              "1455      Gilbert     VinylSd     VinylSd     175000\n",
              "1456       NWAmes     Plywood     Plywood     210000\n",
              "1457      Crawfor     CemntBd        rare     266500\n",
              "1458        NAmes     MetalSd     MetalSd     142125\n",
              "1459      Edwards     HdBoard     HdBoard     147500\n",
              "\n",
              "[1460 rows x 4 columns]"
            ]
          },
          "metadata": {
            "tags": []
          },
          "execution_count": 40
        }
      ]
    },
    {
      "cell_type": "code",
      "metadata": {
        "id": "ilSLpRYCCl0w"
      },
      "source": [
        "data['Exterior1st']=rare(data,'Exterior1st')"
      ],
      "execution_count": null,
      "outputs": []
    },
    {
      "cell_type": "code",
      "metadata": {
        "id": "k5DelKhCC1K9"
      },
      "source": [
        "data['Neighborhood']=rare(data,'Neighborhood')"
      ],
      "execution_count": null,
      "outputs": []
    },
    {
      "cell_type": "code",
      "metadata": {
        "colab": {
          "base_uri": "https://localhost:8080/",
          "height": 402
        },
        "id": "jJTvCEtbC8Gy",
        "outputId": "ebe65479-29c9-427b-8b33-d588fa0511b6"
      },
      "source": [
        "data"
      ],
      "execution_count": null,
      "outputs": [
        {
          "output_type": "execute_result",
          "data": {
            "text/html": [
              "<div>\n",
              "<style scoped>\n",
              "    .dataframe tbody tr th:only-of-type {\n",
              "        vertical-align: middle;\n",
              "    }\n",
              "\n",
              "    .dataframe tbody tr th {\n",
              "        vertical-align: top;\n",
              "    }\n",
              "\n",
              "    .dataframe thead th {\n",
              "        text-align: right;\n",
              "    }\n",
              "</style>\n",
              "<table border=\"1\" class=\"dataframe\">\n",
              "  <thead>\n",
              "    <tr style=\"text-align: right;\">\n",
              "      <th></th>\n",
              "      <th>Neighborhood</th>\n",
              "      <th>Exterior1st</th>\n",
              "      <th>Exterior2nd</th>\n",
              "      <th>SalePrice</th>\n",
              "    </tr>\n",
              "  </thead>\n",
              "  <tbody>\n",
              "    <tr>\n",
              "      <th>0</th>\n",
              "      <td>CollgCr</td>\n",
              "      <td>VinylSd</td>\n",
              "      <td>VinylSd</td>\n",
              "      <td>208500</td>\n",
              "    </tr>\n",
              "    <tr>\n",
              "      <th>1</th>\n",
              "      <td>rare</td>\n",
              "      <td>MetalSd</td>\n",
              "      <td>MetalSd</td>\n",
              "      <td>181500</td>\n",
              "    </tr>\n",
              "    <tr>\n",
              "      <th>2</th>\n",
              "      <td>CollgCr</td>\n",
              "      <td>VinylSd</td>\n",
              "      <td>VinylSd</td>\n",
              "      <td>223500</td>\n",
              "    </tr>\n",
              "    <tr>\n",
              "      <th>3</th>\n",
              "      <td>rare</td>\n",
              "      <td>Wd Sdng</td>\n",
              "      <td>rare</td>\n",
              "      <td>140000</td>\n",
              "    </tr>\n",
              "    <tr>\n",
              "      <th>4</th>\n",
              "      <td>rare</td>\n",
              "      <td>VinylSd</td>\n",
              "      <td>VinylSd</td>\n",
              "      <td>250000</td>\n",
              "    </tr>\n",
              "    <tr>\n",
              "      <th>...</th>\n",
              "      <td>...</td>\n",
              "      <td>...</td>\n",
              "      <td>...</td>\n",
              "      <td>...</td>\n",
              "    </tr>\n",
              "    <tr>\n",
              "      <th>1455</th>\n",
              "      <td>Gilbert</td>\n",
              "      <td>VinylSd</td>\n",
              "      <td>VinylSd</td>\n",
              "      <td>175000</td>\n",
              "    </tr>\n",
              "    <tr>\n",
              "      <th>1456</th>\n",
              "      <td>NWAmes</td>\n",
              "      <td>Plywood</td>\n",
              "      <td>Plywood</td>\n",
              "      <td>210000</td>\n",
              "    </tr>\n",
              "    <tr>\n",
              "      <th>1457</th>\n",
              "      <td>rare</td>\n",
              "      <td>rare</td>\n",
              "      <td>rare</td>\n",
              "      <td>266500</td>\n",
              "    </tr>\n",
              "    <tr>\n",
              "      <th>1458</th>\n",
              "      <td>NAmes</td>\n",
              "      <td>MetalSd</td>\n",
              "      <td>MetalSd</td>\n",
              "      <td>142125</td>\n",
              "    </tr>\n",
              "    <tr>\n",
              "      <th>1459</th>\n",
              "      <td>Edwards</td>\n",
              "      <td>HdBoard</td>\n",
              "      <td>HdBoard</td>\n",
              "      <td>147500</td>\n",
              "    </tr>\n",
              "  </tbody>\n",
              "</table>\n",
              "<p>1460 rows × 4 columns</p>\n",
              "</div>"
            ],
            "text/plain": [
              "     Neighborhood Exterior1st Exterior2nd  SalePrice\n",
              "0         CollgCr     VinylSd     VinylSd     208500\n",
              "1            rare     MetalSd     MetalSd     181500\n",
              "2         CollgCr     VinylSd     VinylSd     223500\n",
              "3            rare     Wd Sdng        rare     140000\n",
              "4            rare     VinylSd     VinylSd     250000\n",
              "...           ...         ...         ...        ...\n",
              "1455      Gilbert     VinylSd     VinylSd     175000\n",
              "1456       NWAmes     Plywood     Plywood     210000\n",
              "1457         rare        rare        rare     266500\n",
              "1458        NAmes     MetalSd     MetalSd     142125\n",
              "1459      Edwards     HdBoard     HdBoard     147500\n",
              "\n",
              "[1460 rows x 4 columns]"
            ]
          },
          "metadata": {
            "tags": []
          },
          "execution_count": 43
        }
      ]
    },
    {
      "cell_type": "code",
      "metadata": {
        "colab": {
          "base_uri": "https://localhost:8080/",
          "height": 911
        },
        "id": "2uxvUEm-C8os",
        "outputId": "1c28663c-a23a-40ec-ebd0-74fd811ee339"
      },
      "source": [
        "for col in feature_cols:\r\n",
        "  temp=get(data,col)\r\n",
        "  plot_cats(temp,col)"
      ],
      "execution_count": null,
      "outputs": [
        {
          "output_type": "display_data",
          "data": {
            "image/png": "[encoded data removed]",
            "text/plain": [
              "<Figure size 432x288 with 2 Axes>"
            ]
          },
          "metadata": {
            "tags": [],
            "needs_background": "light"
          }
        },
        {
          "output_type": "display_data",
          "data": {
            "image/png": "[encoded data removed]",
            "text/plain": [
              "<Figure size 432x288 with 2 Axes>"
            ]
          },
          "metadata": {
            "tags": [],
            "needs_background": "light"
          }
        },
        {
          "output_type": "display_data",
          "data": {
            "image/png": "[encoded data removed]",
            "text/plain": [
              "<Figure size 432x288 with 2 Axes>"
            ]
          },
          "metadata": {
            "tags": [],
            "needs_background": "light"
          }
        }
      ]
    },
    {
      "cell_type": "code",
      "metadata": {
        "id": "UpzeN432DK6E"
      },
      "source": [
        ""
      ],
      "execution_count": null,
      "outputs": []
    }
  ]
}