{
  "nbformat": 4,
  "nbformat_minor": 0,
  "metadata": {
    "colab": {
      "name": "Feature Engineering (Krish Naik) Finding an outlier in a dataset.ipynb",
      "provenance": [],
      "collapsed_sections": [],
      "authorship_tag": "ABX9TyMFGHnUEMpHoTic4MZq/Ys/",
      "include_colab_link": true
    },
    "kernelspec": {
      "name": "python3",
      "display_name": "Python 3"
    }
  },
  "cells": [
    {
      "cell_type": "markdown",
      "metadata": {
        "id": "view-in-github",
        "colab_type": "text"
      },
      "source": [
        "<a href=\"https://colab.research.google.com/github/KodumuruRaja/Feature-Engineering/blob/main/Feature-Engineering-(Finding%20outliers).ipynb\" target=\"_parent\"><img src=\"https://colab.research.google.com/assets/colab-badge.svg\" alt=\"Open In Colab\"/></a>"
      ]
    },
    {
      "cell_type": "markdown",
      "metadata": {
        "id": "XgdMCIIF-HXh"
      },
      "source": [
        "# **What is an outlier?**\r\n",
        "# An outlier is a data point in a data set that is distant from all other observations.\r\n",
        "# A data point that lies outside the overall distribution of the dataset."
      ]
    },
    {
      "cell_type": "code",
      "metadata": {
        "id": "ZhNQ5Z3S-U_X"
      },
      "source": [
        "import numpy as np\r\n",
        "import matplotlib.pyplot as plt\r\n",
        "%matplotlib inline"
      ],
      "execution_count": null,
      "outputs": []
    },
    {
      "cell_type": "markdown",
      "metadata": {
        "id": "i6HDMQKx-dWe"
      },
      "source": [
        "# **What are the criteria to identify an outlier?**\r\n",
        "# 1) Data point that falls outside of 1.5 times of an interquartile range above the 3rd quartile and below the 1st quartile\r\n",
        "# 2) Data point that falls outside of 3 standard deviations. \r\n",
        "# 3) we can use a z score and if the z score falls outside of 2 standard deviation\r\n",
        "# **What is the reason for an outlier to exists in a dataset?**\r\n",
        "# 1) Variability in the data\r\n",
        "# 2) An experimental measurement error\r\n",
        "# **What are the impacts of having outliers in a dataset?**\r\n",
        "# 1) It causes various problems during our statistical analysis\r\n",
        "# 2) It may cause a significant impact on the mean and the standard deviation\r\n",
        "# **Various ways of finding the outlier.**\r\n",
        "# 1) Using scatter plots\r\n",
        "# 2) Box plot\r\n",
        "# 3) using z score\r\n",
        "# 4) using the IQR interquantile range"
      ]
    },
    {
      "cell_type": "code",
      "metadata": {
        "id": "9NTc2Opj-Xyx"
      },
      "source": [
        "dataset= [11,10,12,14,12,15,14,13,15,102,12,14,17,19,107, 10,13,12,14,12,108,12,11,14,13,15,10,15,12,10,14,13,15,10]"
      ],
      "execution_count": null,
      "outputs": []
    },
    {
      "cell_type": "markdown",
      "metadata": {
        "id": "x9e0vVx3_J4f"
      },
      "source": [
        "# **Detecting outlier using Z score**\r\n",
        "# Formula for Z score = (Observation — Mean)/Standard Deviation\r\n",
        "# z = (X — μ) / σ"
      ]
    },
    {
      "cell_type": "code",
      "metadata": {
        "id": "evTWAyT5_HKD"
      },
      "source": [
        "outliers=[]\r\n",
        "def detect_outliers(data):\r\n",
        "    \r\n",
        "    threshold=3\r\n",
        "    mean = np.mean(data)\r\n",
        "    std =np.std(data)\r\n",
        "    \r\n",
        "    \r\n",
        "    for i in data:\r\n",
        "        z_score= (i - mean)/std \r\n",
        "        if np.abs(z_score) > threshold:\r\n",
        "            outliers.append(i)\r\n",
        "    return outliers"
      ],
      "execution_count": null,
      "outputs": []
    },
    {
      "cell_type": "code",
      "metadata": {
        "id": "wk2_Sx7I_ZPG"
      },
      "source": [
        "outlier_pt=detect_outliers(dataset)"
      ],
      "execution_count": null,
      "outputs": []
    },
    {
      "cell_type": "code",
      "metadata": {
        "colab": {
          "base_uri": "https://localhost:8080/"
        },
        "id": "ENM2PGkm_bno",
        "outputId": "d11584a5-2cf4-4eba-dbab-f70b582d6abb"
      },
      "source": [
        "outlier_pt"
      ],
      "execution_count": null,
      "outputs": [
        {
          "output_type": "execute_result",
          "data": {
            "text/plain": [
              "[102, 107, 108]"
            ]
          },
          "metadata": {
            "tags": []
          },
          "execution_count": 5
        }
      ]
    },
    {
      "cell_type": "markdown",
      "metadata": {
        "id": "W7J5M3yc_lVR"
      },
      "source": [
        "# **InterQuantile Range**\r\n",
        "75%- 25% values in a dataset\r\n",
        "# **Steps**\r\n",
        "# 1. Arrange the data in increasing order\r\n",
        "# 2. Calculate first(q1) and third quartile(q3)\r\n",
        "# 3. Find interquartile range (q3-q1)\r\n",
        "# 4. Find lower bound q1*1.5\r\n",
        "# 5. Find upper bound q3*1.5\r\n",
        "# Anything that lies outside of lower and upper bound is an outlier"
      ]
    },
    {
      "cell_type": "code",
      "metadata": {
        "colab": {
          "base_uri": "https://localhost:8080/"
        },
        "id": "7X5DlOVw_1aN",
        "outputId": "932097ee-588e-4829-aa0b-ad6286b026b2"
      },
      "source": [
        "# Perform all the steps of IQR\r\n",
        "sorted(dataset)"
      ],
      "execution_count": null,
      "outputs": [
        {
          "output_type": "execute_result",
          "data": {
            "text/plain": [
              "[10,\n",
              " 10,\n",
              " 10,\n",
              " 10,\n",
              " 10,\n",
              " 11,\n",
              " 11,\n",
              " 12,\n",
              " 12,\n",
              " 12,\n",
              " 12,\n",
              " 12,\n",
              " 12,\n",
              " 12,\n",
              " 13,\n",
              " 13,\n",
              " 13,\n",
              " 13,\n",
              " 14,\n",
              " 14,\n",
              " 14,\n",
              " 14,\n",
              " 14,\n",
              " 14,\n",
              " 15,\n",
              " 15,\n",
              " 15,\n",
              " 15,\n",
              " 15,\n",
              " 17,\n",
              " 19,\n",
              " 102,\n",
              " 107,\n",
              " 108]"
            ]
          },
          "metadata": {
            "tags": []
          },
          "execution_count": 6
        }
      ]
    },
    {
      "cell_type": "code",
      "metadata": {
        "id": "KujeZp-w_5qW"
      },
      "source": [
        "quantile1, quantile3= np.percentile(dataset,[25,75])"
      ],
      "execution_count": null,
      "outputs": []
    },
    {
      "cell_type": "code",
      "metadata": {
        "colab": {
          "base_uri": "https://localhost:8080/"
        },
        "id": "JXJRr2o5_8sl",
        "outputId": "fc47095a-0ec6-4b76-d081-51dc39a0e6f8"
      },
      "source": [
        "print(quantile1,quantile3)"
      ],
      "execution_count": null,
      "outputs": [
        {
          "output_type": "stream",
          "text": [
            "12.0 15.0\n"
          ],
          "name": "stdout"
        }
      ]
    },
    {
      "cell_type": "code",
      "metadata": {
        "colab": {
          "base_uri": "https://localhost:8080/"
        },
        "id": "L8hdcBn5AAP9",
        "outputId": "acb91b95-9ab0-407c-bce4-5fcdaf06c536"
      },
      "source": [
        "# Find the IQR\r\n",
        "iqr_value=quantile3-quantile1\r\n",
        "print(iqr_value)"
      ],
      "execution_count": null,
      "outputs": [
        {
          "output_type": "stream",
          "text": [
            "3.0\n"
          ],
          "name": "stdout"
        }
      ]
    },
    {
      "cell_type": "code",
      "metadata": {
        "id": "t_ty1wjBADmG"
      },
      "source": [
        "# Find the lower bound value and the higher bound value\r\n",
        "lower_bound_val = quantile1 -(1.5 * iqr_value) \r\n",
        "upper_bound_val = quantile3 +(1.5 * iqr_value)"
      ],
      "execution_count": null,
      "outputs": []
    },
    {
      "cell_type": "code",
      "metadata": {
        "colab": {
          "base_uri": "https://localhost:8080/"
        },
        "id": "qxuI_sgnAGT6",
        "outputId": "da828083-30b0-4b5f-96fc-2ea4eb288f04"
      },
      "source": [
        "print(lower_bound_val,upper_bound_val)"
      ],
      "execution_count": null,
      "outputs": [
        {
          "output_type": "stream",
          "text": [
            "7.5 19.5\n"
          ],
          "name": "stdout"
        }
      ]
    },
    {
      "cell_type": "code",
      "metadata": {
        "id": "WeXi96A7AKrO"
      },
      "source": [
        ""
      ],
      "execution_count": null,
      "outputs": []
    }
  ]
}